{
 "cells": [
  {
   "cell_type": "code",
   "execution_count": 37,
   "metadata": {
    "collapsed": true
   },
   "outputs": [
    {
     "name": "stdout",
     "output_type": "stream",
     "text": [
      "import success\n"
     ]
    }
   ],
   "source": [
    "import copy\n",
    "\n",
    "import numpy as np\n",
    "import pandas as pd\n",
    "pd.set_option('display.max_columns', None)\n",
    "pd.set_option(\"max_rows\", 200)\n",
    "\n",
    "from sklearn.experimental import enable_halving_search_cv\n",
    "from sklearn.experimental import enable_hist_gradient_boosting\n",
    "\n",
    "from sklearn.model_selection import train_test_split\n",
    "from sklearn.model_selection import GridSearchCV, RandomizedSearchCV\n",
    "from sklearn.model_selection import HalvingGridSearchCV, HalvingRandomSearchCV\n",
    "\n",
    "from sklearn.naive_bayes import BernoulliNB, GaussianNB\n",
    "from sklearn.tree import DecisionTreeClassifier, ExtraTreeClassifier\n",
    "from sklearn.ensemble import ExtraTreesClassifier\n",
    "from sklearn.neighbors import KNeighborsClassifier\n",
    "from sklearn.svm import LinearSVC, NuSVC, SVC\n",
    "from sklearn.linear_model import LogisticRegression, LogisticRegressionCV\n",
    "from sklearn.gaussian_process import GaussianProcessClassifier\n",
    "from sklearn.multiclass import OneVsOneClassifier\n",
    "\n",
    "from sklearn.metrics import make_scorer, roc_auc_score, f1_score\n",
    "\n",
    "print(\"import success\")"
   ]
  },
  {
   "cell_type": "code",
   "execution_count": 38,
   "outputs": [
    {
     "name": "stdout",
     "output_type": "stream",
     "text": [
      "data => rows: 74250, cols: 114\n",
      "labels => rows: 59400, cols: 1\n"
     ]
    }
   ],
   "source": [
    "# import pre-processed datasets\n",
    "\n",
    "# train data\n",
    "data = pd.read_csv(r\"source/for_train.csv\", index_col=\"id\")\n",
    "\n",
    "# target\n",
    "labels = pd.read_csv(r\"source/train_labels.csv\", index_col=\"id\")\n",
    "\n",
    "# check whether rows are equal\n",
    "print(\"data => rows: %s, cols: %s\" % (data.shape[0], data.shape[1]))\n",
    "print(\"labels => rows: %s, cols: %s\" % (labels.shape[0], labels.shape[1]))"
   ],
   "metadata": {
    "collapsed": false,
    "pycharm": {
     "name": "#%%\n"
    }
   }
  },
  {
   "cell_type": "code",
   "execution_count": 39,
   "outputs": [],
   "source": [
    "target = labels.values.ravel()\n",
    "\n",
    "train = data[data.type.eq(\"train\")].drop(\"type\", axis=1)\n",
    "test = data[data.type.eq(\"test\")].drop(\"type\", axis=1)\n",
    "\n",
    "X_train, X_test, y_train, y_test = train_test_split(\n",
    "    train,\n",
    "    target,\n",
    "    test_size = 0.2,\n",
    "    shuffle = True,\n",
    "    stratify = target,\n",
    "    random_state = 42\n",
    ")\n",
    "\n",
    "# size = 1000\n",
    "size = len(y_train)\n",
    "X_train_pruned = X_train.head(size).copy()\n",
    "y_train_pruned = copy.deepcopy(y_train[:size])"
   ],
   "metadata": {
    "collapsed": false,
    "pycharm": {
     "name": "#%%\n"
    }
   }
  },
  {
   "cell_type": "code",
   "execution_count": 40,
   "outputs": [],
   "source": [
    "# select models for pre-mature testing\n",
    "\n",
    "# Reference: https://towardsdatascience.com/comprehensive-guide-to-multiclass-classification-with-sklearn-127cc500f362\n",
    "\n",
    "models = [\n",
    "    BernoulliNB(),\n",
    "    GaussianNB(),\n",
    "    DecisionTreeClassifier(),\n",
    "    ExtraTreeClassifier(),\n",
    "    ExtraTreesClassifier(),\n",
    "    KNeighborsClassifier(),\n",
    "    LinearSVC(multi_class = 'crammer_singer'),\n",
    "    LogisticRegression(multi_class=\"multinomial\"),\n",
    "    # LogisticRegressionCV(multi_class=\"multinomial\")\n",
    "]"
   ],
   "metadata": {
    "collapsed": false,
    "pycharm": {
     "name": "#%%\n"
    }
   }
  },
  {
   "cell_type": "code",
   "execution_count": 41,
   "outputs": [],
   "source": [
    "# pre-mature testing to select a good model\n",
    "def fit_predict(model):\n",
    "    model.fit(X_train_pruned, y_train_pruned)\n",
    "    predicted_vals = model.predict(X_test)\n",
    "    score = f1_score(y_test, predicted_vals, average=\"weighted\")\n",
    "\n",
    "    return model, score\n",
    "\n",
    "# result = []\n",
    "# for model in models:\n",
    "#     result.append(fit_predict(model))\n",
    "#     print(\"Completed model: %s\" % model)\n",
    "#\n",
    "# # summary\n",
    "# print(\"--------------------------------------------\")\n",
    "#\n",
    "# result.sort(key = lambda i: i[-1], reverse=True)\n",
    "#\n",
    "# for model, score in result:\n",
    "#     print(\"%s:\\t%s\" %(model, score))"
   ],
   "metadata": {
    "collapsed": false,
    "pycharm": {
     "name": "#%%\n"
    }
   }
  },
  {
   "cell_type": "markdown",
   "source": [
    "Results are as follows:\n",
    "\n",
    "ExtraTreesClassifier():\t                        0.7893193452304608\n",
    "KNeighborsClassifier():\t                        0.7667426178771187\n",
    "ExtraTreeClassifier():\t                        0.75045228775177\n",
    "DecisionTreeClassifier():\t                    0.7443432891788146\n",
    "LogisticRegression(multi_class='multinomial'):\t0.7051223181663652\n",
    "LinearSVC(multi_class='crammer_singer'):\t    0.6933519410970397\n",
    "BernoulliNB():\t                                0.6790484625264323\n",
    "GaussianNB():\t                                0.37601736307413447\n",
    "\n",
    "From this observation, it can be concluded that ExtraTreesClassifier()\n",
    "performs best with basic settings"
   ],
   "metadata": {
    "collapsed": false
   }
  },
  {
   "cell_type": "code",
   "execution_count": 42,
   "outputs": [],
   "source": [
    "# These are for one-vs-one classification\n",
    "models = [\n",
    "    # NuSVC(),\n",
    "    SVC(),\n",
    "    GaussianProcessClassifier(multi_class=\"one_vs_one\")\n",
    "]"
   ],
   "metadata": {
    "collapsed": false,
    "pycharm": {
     "name": "#%%\n"
    }
   }
  },
  {
   "cell_type": "code",
   "execution_count": null,
   "outputs": [],
   "source": [
    "# pre-mature testing to select a good model\n",
    "def fit_predict(model):\n",
    "    ovo = OneVsOneClassifier(estimator=model, n_jobs=4)\n",
    "    ovo.fit(X_train_pruned, y_train_pruned)\n",
    "    predicted_vals = ovo.predict(X_test)\n",
    "    score = f1_score(y_test, predicted_vals, average=\"weighted\")\n",
    "\n",
    "    return model, score\n",
    "\n",
    "result = []\n",
    "for model in models:\n",
    "    result.append(fit_predict(model))\n",
    "    print(\"Completed model: %s\" % model)\n",
    "\n",
    "# summary\n",
    "print(\"--------------------------------------------\")\n",
    "\n",
    "result.sort(key = lambda i: i[-1], reverse=True)\n",
    "\n",
    "for model, score in result:\n",
    "    print(\"%s:\\t%s\" %(model, score))"
   ],
   "metadata": {
    "collapsed": false,
    "pycharm": {
     "name": "#%%\n",
     "is_executing": true
    }
   }
  },
  {
   "cell_type": "markdown",
   "source": [
    "SVC():\t0.6965628342500507\n",
    "GaussianProcessClassifier(multi_class='one_vs_one'):\t0.658912128474546\n"
   ],
   "metadata": {
    "collapsed": false,
    "pycharm": {
     "name": "#%% md\n"
    }
   }
  }
 ],
 "metadata": {
  "kernelspec": {
   "display_name": "Python 3",
   "language": "python",
   "name": "python3"
  },
  "language_info": {
   "codemirror_mode": {
    "name": "ipython",
    "version": 2
   },
   "file_extension": ".py",
   "mimetype": "text/x-python",
   "name": "python",
   "nbconvert_exporter": "python",
   "pygments_lexer": "ipython2",
   "version": "2.7.6"
  }
 },
 "nbformat": 4,
 "nbformat_minor": 0
}