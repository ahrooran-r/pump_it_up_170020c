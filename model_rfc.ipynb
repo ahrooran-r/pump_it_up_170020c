{
 "cells": [
  {
   "cell_type": "code",
   "execution_count": 1,
   "metadata": {
    "scrolled": true
   },
   "outputs": [
    {
     "name": "stdout",
     "output_type": "stream",
     "text": [
      "import success\n"
     ]
    }
   ],
   "source": [
    "import copy\n",
    "\n",
    "import pandas as pd\n",
    "pd.set_option('display.max_columns', None)\n",
    "pd.set_option(\"max_rows\", 200)\n",
    "\n",
    "from sklearn.experimental import enable_halving_search_cv\n",
    "from sklearn.experimental import enable_hist_gradient_boosting\n",
    "\n",
    "from sklearn.model_selection import train_test_split\n",
    "from sklearn.model_selection import GridSearchCV, RandomizedSearchCV\n",
    "from sklearn.model_selection import HalvingGridSearchCV, HalvingRandomSearchCV\n",
    "\n",
    "from sklearn.ensemble import RandomForestClassifier\n",
    "from sklearn.metrics import make_scorer, f1_score\n",
    "\n",
    "print(\"import success\")"
   ]
  },
  {
   "cell_type": "code",
   "execution_count": 2,
   "metadata": {
    "pycharm": {
     "name": "#%%\n"
    },
    "scrolled": true
   },
   "outputs": [
    {
     "name": "stdout",
     "output_type": "stream",
     "text": [
      "data => rows: 74250, cols: 122\n",
      "labels => rows: 59400, cols: 1\n"
     ]
    }
   ],
   "source": [
    "# import pre-processed datasets\n",
    "\n",
    "# train data\n",
    "data = pd.read_csv(r\"source/for_train.csv\", index_col=\"id\")\n",
    "\n",
    "# target\n",
    "labels = pd.read_csv(r\"source/train_labels.csv\", index_col=\"id\")\n",
    "\n",
    "# check whether rows are equal\n",
    "print(\"data => rows: %s, cols: %s\" % (data.shape[0], data.shape[1]))\n",
    "print(\"labels => rows: %s, cols: %s\" % (labels.shape[0], labels.shape[1]))"
   ]
  },
  {
   "cell_type": "code",
   "execution_count": 3,
   "metadata": {
    "pycharm": {
     "name": "#%%\n"
    },
    "scrolled": true
   },
   "outputs": [],
   "source": [
    "target = labels.values.ravel()\n",
    "\n",
    "train = data[data.type.eq(\"train\")].drop(\"type\", axis=1)\n",
    "test = data[data.type.eq(\"test\")].drop(\"type\", axis=1)\n",
    "\n",
    "X_train, X_test, y_train, y_test = train_test_split(\n",
    "    train,\n",
    "    target,\n",
    "    test_size = 0.2,\n",
    "    shuffle = True,\n",
    "    stratify = target,\n",
    "    random_state = 42\n",
    ")\n",
    "\n",
    "# size = 25\n",
    "size = len(y_train)\n",
    "X_train_pruned = X_train.head(size).copy()\n",
    "y_train_pruned = copy.deepcopy(y_train[:size])"
   ]
  },
  {
   "cell_type": "code",
   "execution_count": 4,
   "metadata": {
    "pycharm": {
     "name": "#%%\n"
    },
    "scrolled": true
   },
   "outputs": [
    {
     "name": "stdout",
     "output_type": "stream",
     "text": [
      "Ready!\n"
     ]
    }
   ],
   "source": [
    "rfc = RandomForestClassifier(\n",
    "    criterion=\"entropy\",\n",
    "    max_features=\"sqrt\"\n",
    ")\n",
    "\n",
    "grid = {\n",
    "    'n_estimators': [n for n in range(1600, 3001) if n % 400 == 0],\n",
    "    'max_depth': [60, 80, 100, 110, 120] + [None],\n",
    "}\n",
    "\n",
    "hrscv = HalvingGridSearchCV(\n",
    "    estimator=rfc,\n",
    "    param_grid=grid,\n",
    "    scoring=make_scorer(f1_score, average = 'weighted'),\n",
    "    cv=2,\n",
    "    error_score='raise',\n",
    "    refit=False,\n",
    "    verbose=10,\n",
    "    random_state=42,\n",
    "    n_jobs=4\n",
    ")\n",
    "\n",
    "print(\"Ready!\")"
   ]
  },
  {
   "cell_type": "code",
   "execution_count": 5,
   "metadata": {
    "pycharm": {
     "name": "#%%\n"
    },
    "scrolled": true
   },
   "outputs": [],
   "source": [
    "# hrscv.fit(X_train_pruned, y_train_pruned)"
   ]
  },
  {
   "cell_type": "code",
   "execution_count": 6,
   "metadata": {
    "pycharm": {
     "name": "#%%\n"
    },
    "scrolled": true
   },
   "outputs": [],
   "source": [
    "# print(hrscv.best_params_)\n",
    "# print(hrscv.best_score_)\n",
    "# print(hrscv.best_estimator_)"
   ]
  },
  {
   "cell_type": "markdown",
   "metadata": {},
   "source": [
    "{'max_depth': 110, 'n_estimators': 2000}\n",
    "0.782550678353571"
   ]
  },
  {
   "cell_type": "code",
   "execution_count": 7,
   "metadata": {
    "pycharm": {
     "name": "#%%\n"
    }
   },
   "outputs": [
    {
     "name": "stdout",
     "output_type": "stream",
     "text": [
      "Fit complete\n"
     ]
    }
   ],
   "source": [
    "# fit the classifier\n",
    "\n",
    "rfc = RandomForestClassifier(criterion=\"entropy\", n_estimators=2000, max_depth=110, max_features=\"sqrt\")\n",
    "rfc.fit(X_train, y_train)\n",
    "print(\"Fit complete\")"
   ]
  },
  {
   "cell_type": "code",
   "execution_count": 8,
   "metadata": {
    "pycharm": {
     "name": "#%%\n"
    }
   },
   "outputs": [
    {
     "name": "stdout",
     "output_type": "stream",
     "text": [
      "0.7974290791389845\n"
     ]
    }
   ],
   "source": [
    "predicted_vals = rfc.predict(X_test)\n",
    "score = f1_score(y_test, predicted_vals, average=\"weighted\")\n",
    "\n",
    "print(score)"
   ]
  },
  {
   "cell_type": "code",
   "execution_count": 9,
   "outputs": [
    {
     "name": "stdout",
     "output_type": "stream",
     "text": [
      "(14850, 2)\n"
     ]
    },
    {
     "data": {
      "text/plain": "      id    status_group\n0  50785      functional\n1  51630      functional\n2  17168      functional\n3  45559  non functional\n4  49871      functional",
      "text/html": "<div>\n<style scoped>\n    .dataframe tbody tr th:only-of-type {\n        vertical-align: middle;\n    }\n\n    .dataframe tbody tr th {\n        vertical-align: top;\n    }\n\n    .dataframe thead th {\n        text-align: right;\n    }\n</style>\n<table border=\"1\" class=\"dataframe\">\n  <thead>\n    <tr style=\"text-align: right;\">\n      <th></th>\n      <th>id</th>\n      <th>status_group</th>\n    </tr>\n  </thead>\n  <tbody>\n    <tr>\n      <th>0</th>\n      <td>50785</td>\n      <td>functional</td>\n    </tr>\n    <tr>\n      <th>1</th>\n      <td>51630</td>\n      <td>functional</td>\n    </tr>\n    <tr>\n      <th>2</th>\n      <td>17168</td>\n      <td>functional</td>\n    </tr>\n    <tr>\n      <th>3</th>\n      <td>45559</td>\n      <td>non functional</td>\n    </tr>\n    <tr>\n      <th>4</th>\n      <td>49871</td>\n      <td>functional</td>\n    </tr>\n  </tbody>\n</table>\n</div>"
     },
     "execution_count": 9,
     "metadata": {},
     "output_type": "execute_result"
    }
   ],
   "source": [
    "build = pd.DataFrame(test.index)\n",
    "\n",
    "build[\"status_group\"] = rfc.predict(test)\n",
    "\n",
    "print(build.shape)\n",
    "\n",
    "assert (build.shape[0] == len(test.index) and build.shape[1] == 2 and build[\"status_group\"].nunique() == 3)\n",
    "\n",
    "build.head()"
   ],
   "metadata": {
    "collapsed": false,
    "pycharm": {
     "name": "#%%\n"
    }
   }
  },
  {
   "cell_type": "code",
   "execution_count": 10,
   "outputs": [
    {
     "name": "stdout",
     "output_type": "stream",
     "text": [
      "success\n"
     ]
    }
   ],
   "source": [
    "build.to_csv(\"source/output.csv\", index=False)\n",
    "print(\"success\")\n"
   ],
   "metadata": {
    "collapsed": false,
    "pycharm": {
     "name": "#%%\n"
    }
   }
  }
 ],
 "metadata": {
  "kernelspec": {
   "display_name": "Python 3 (ipykernel)",
   "language": "python",
   "name": "python3"
  },
  "language_info": {
   "codemirror_mode": {
    "name": "ipython",
    "version": 3
   },
   "file_extension": ".py",
   "mimetype": "text/x-python",
   "name": "python",
   "nbconvert_exporter": "python",
   "pygments_lexer": "ipython3",
   "version": "3.7.11"
  }
 },
 "nbformat": 4,
 "nbformat_minor": 1
}