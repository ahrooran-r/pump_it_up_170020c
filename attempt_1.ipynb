{
 "cells": [
  {
   "cell_type": "code",
   "execution_count": 190,
   "metadata": {
    "collapsed": true
   },
   "outputs": [
    {
     "name": "stdout",
     "output_type": "stream",
     "text": [
      "Import complete\n"
     ]
    }
   ],
   "source": [
    "import numpy as np\n",
    "import pandas as pd\n",
    "pd.set_option('display.max_columns', None)\n",
    "pd.set_option(\"max_rows\", 200)\n",
    "\n",
    "from haversine import haversine, Unit\n",
    "\n",
    "from sklearn.preprocessing import StandardScaler\n",
    "from sklearn.impute import SimpleImputer\n",
    "\n",
    "from sklearn.model_selection import train_test_split\n",
    "from sklearn.model_selection import GridSearchCV\n",
    "from sklearn.model_selection import RandomizedSearchCV\n",
    "from sklearn.experimental import enable_halving_search_cv\n",
    "from sklearn.model_selection import HalvingRandomSearchCV\n",
    "\n",
    "from sklearn.multiclass import OneVsRestClassifier\n",
    "from sklearn.ensemble import RandomForestClassifier\n",
    "from catboost import CatBoostClassifier\n",
    "import xgboost as xgb\n",
    "\n",
    "from sklearn.metrics import make_scorer\n",
    "from sklearn.metrics import accuracy_score, precision_score, recall_score, f1_score, roc_auc_score, cohen_kappa_score\n",
    "\n",
    "\n",
    "print(\"Import complete\")"
   ]
  },
  {
   "cell_type": "markdown",
   "source": [
    "## Import Files"
   ],
   "metadata": {
    "collapsed": false
   }
  },
  {
   "cell_type": "code",
   "execution_count": 191,
   "outputs": [
    {
     "name": "stdout",
     "output_type": "stream",
     "text": [
      "train data => rows: 59400, cols: 40\n",
      "labels data => rows: 59400, cols: 2\n",
      "test data => rows: 14850, cols: 40\n"
     ]
    }
   ],
   "source": [
    "# test data\n",
    "test = pd.read_csv(r\"source/test_features.csv\")\n",
    "\n",
    "# train data\n",
    "train = pd.read_csv(r\"source/train_features.csv\")\n",
    "\n",
    "# target\n",
    "labels = pd.read_csv(r\"source/train_labels.csv\")\n",
    "\n",
    "# check whether rows are equal\n",
    "print(\"train data => rows: %s, cols: %s\" % (train.shape[0], train.shape[1]))\n",
    "print(\"labels data => rows: %s, cols: %s\" % (labels.shape[0], labels.shape[1]))\n",
    "print(\"test data => rows: %s, cols: %s\" % (test.shape[0], test.shape[1]))\n",
    "\n",
    "assert(train.shape[1] == test.shape[1])"
   ],
   "metadata": {
    "collapsed": false,
    "pycharm": {
     "name": "#%%\n"
    }
   }
  },
  {
   "cell_type": "markdown",
   "source": [
    "## Pre-processing"
   ],
   "metadata": {
    "collapsed": false,
    "pycharm": {
     "name": "#%% md\n"
    }
   }
  },
  {
   "cell_type": "code",
   "execution_count": 192,
   "outputs": [
    {
     "name": "stdout",
     "output_type": "stream",
     "text": [
      "duplicates in train dataset: 0\n",
      "duplicates in label dataset: 0\n",
      "duplicates in test dataset: 0\n"
     ]
    }
   ],
   "source": [
    "# check for duplicates in data\n",
    "train_dup_count = np.sum(train.duplicated())\n",
    "label_dup_count = np.sum(labels.duplicated())\n",
    "test_dup_count = np.sum(test.duplicated())\n",
    "\n",
    "print(\"duplicates in train dataset: %s\" % train_dup_count)\n",
    "print(\"duplicates in label dataset: %s\" % label_dup_count)\n",
    "print(\"duplicates in test dataset: %s\" % test_dup_count)\n",
    "\n",
    "assert(train_dup_count == 0 and label_dup_count == 0 and test_dup_count == 0)"
   ],
   "metadata": {
    "collapsed": false,
    "pycharm": {
     "name": "#%%\n"
    }
   }
  },
  {
   "cell_type": "code",
   "execution_count": 193,
   "outputs": [],
   "source": [
    "# make id as index\n",
    "train = train.set_index(\"id\")\n",
    "test = test.set_index(\"id\")\n",
    "labels = labels.set_index(\"id\")"
   ],
   "metadata": {
    "collapsed": false,
    "pycharm": {
     "name": "#%%\n"
    }
   }
  },
  {
   "cell_type": "code",
   "execution_count": 194,
   "outputs": [
    {
     "data": {
      "text/plain": "       amount_tsh date_recorded                  funder  gps_height  \\\nid                                                                    \n33492         0.0    2013-02-18                 Germany         998   \n68707         0.0    2013-02-13  Government Of Tanzania         481   \n\n        installer  longitude   latitude          wpt_name  num_private  \\\nid                                                                       \n33492         DWE  35.432732 -10.584159          Kwa John            0   \n68707  Government  34.765054 -11.226012  Kwa Mzee Chagala            0   \n\n            basin   subvillage  region  region_code  district_code  \\\nid                                                                   \n33492  Lake Nyasa  Namakinga B  Ruvuma           10              2   \n68707  Lake Nyasa        Kamba  Ruvuma           10              3   \n\n                lga        ward  population public_meeting  \\\nid                                                           \n33492  Songea Rural    Maposeni         150           True   \n68707        Mbinga  Mbamba bay          40           True   \n\n                   recorded_by scheme_management                scheme_name  \\\nid                                                                            \n33492  GeoData Consultants Ltd               VWC  Mradi wa maji wa maposeni   \n68707  GeoData Consultants Ltd               VWC                     DANIDA   \n\n      permit  construction_year extraction_type extraction_type_group  \\\nid                                                                      \n33492   True               2009         gravity               gravity   \n68707   True               2008         gravity               gravity   \n\n      extraction_type_class management management_group    payment  \\\nid                                                                   \n33492               gravity        vwc       user-group  never pay   \n68707               gravity        vwc       user-group  never pay   \n\n      payment_type water_quality quality_group      quantity quantity_group  \\\nid                                                                            \n33492    never pay          soft          good  insufficient   insufficient   \n68707    never pay          soft          good           dry            dry   \n\n       source source_type source_class     waterpoint_type  \\\nid                                                           \n33492   river  river/lake      surface  communal standpipe   \n68707  spring      spring  groundwater  communal standpipe   \n\n      waterpoint_type_group  type  \nid                                 \n33492    communal standpipe  test  \n68707    communal standpipe  test  ",
      "text/html": "<div>\n<style scoped>\n    .dataframe tbody tr th:only-of-type {\n        vertical-align: middle;\n    }\n\n    .dataframe tbody tr th {\n        vertical-align: top;\n    }\n\n    .dataframe thead th {\n        text-align: right;\n    }\n</style>\n<table border=\"1\" class=\"dataframe\">\n  <thead>\n    <tr style=\"text-align: right;\">\n      <th></th>\n      <th>amount_tsh</th>\n      <th>date_recorded</th>\n      <th>funder</th>\n      <th>gps_height</th>\n      <th>installer</th>\n      <th>longitude</th>\n      <th>latitude</th>\n      <th>wpt_name</th>\n      <th>num_private</th>\n      <th>basin</th>\n      <th>subvillage</th>\n      <th>region</th>\n      <th>region_code</th>\n      <th>district_code</th>\n      <th>lga</th>\n      <th>ward</th>\n      <th>population</th>\n      <th>public_meeting</th>\n      <th>recorded_by</th>\n      <th>scheme_management</th>\n      <th>scheme_name</th>\n      <th>permit</th>\n      <th>construction_year</th>\n      <th>extraction_type</th>\n      <th>extraction_type_group</th>\n      <th>extraction_type_class</th>\n      <th>management</th>\n      <th>management_group</th>\n      <th>payment</th>\n      <th>payment_type</th>\n      <th>water_quality</th>\n      <th>quality_group</th>\n      <th>quantity</th>\n      <th>quantity_group</th>\n      <th>source</th>\n      <th>source_type</th>\n      <th>source_class</th>\n      <th>waterpoint_type</th>\n      <th>waterpoint_type_group</th>\n      <th>type</th>\n    </tr>\n    <tr>\n      <th>id</th>\n      <th></th>\n      <th></th>\n      <th></th>\n      <th></th>\n      <th></th>\n      <th></th>\n      <th></th>\n      <th></th>\n      <th></th>\n      <th></th>\n      <th></th>\n      <th></th>\n      <th></th>\n      <th></th>\n      <th></th>\n      <th></th>\n      <th></th>\n      <th></th>\n      <th></th>\n      <th></th>\n      <th></th>\n      <th></th>\n      <th></th>\n      <th></th>\n      <th></th>\n      <th></th>\n      <th></th>\n      <th></th>\n      <th></th>\n      <th></th>\n      <th></th>\n      <th></th>\n      <th></th>\n      <th></th>\n      <th></th>\n      <th></th>\n      <th></th>\n      <th></th>\n      <th></th>\n      <th></th>\n    </tr>\n  </thead>\n  <tbody>\n    <tr>\n      <th>33492</th>\n      <td>0.0</td>\n      <td>2013-02-18</td>\n      <td>Germany</td>\n      <td>998</td>\n      <td>DWE</td>\n      <td>35.432732</td>\n      <td>-10.584159</td>\n      <td>Kwa John</td>\n      <td>0</td>\n      <td>Lake Nyasa</td>\n      <td>Namakinga B</td>\n      <td>Ruvuma</td>\n      <td>10</td>\n      <td>2</td>\n      <td>Songea Rural</td>\n      <td>Maposeni</td>\n      <td>150</td>\n      <td>True</td>\n      <td>GeoData Consultants Ltd</td>\n      <td>VWC</td>\n      <td>Mradi wa maji wa maposeni</td>\n      <td>True</td>\n      <td>2009</td>\n      <td>gravity</td>\n      <td>gravity</td>\n      <td>gravity</td>\n      <td>vwc</td>\n      <td>user-group</td>\n      <td>never pay</td>\n      <td>never pay</td>\n      <td>soft</td>\n      <td>good</td>\n      <td>insufficient</td>\n      <td>insufficient</td>\n      <td>river</td>\n      <td>river/lake</td>\n      <td>surface</td>\n      <td>communal standpipe</td>\n      <td>communal standpipe</td>\n      <td>test</td>\n    </tr>\n    <tr>\n      <th>68707</th>\n      <td>0.0</td>\n      <td>2013-02-13</td>\n      <td>Government Of Tanzania</td>\n      <td>481</td>\n      <td>Government</td>\n      <td>34.765054</td>\n      <td>-11.226012</td>\n      <td>Kwa Mzee Chagala</td>\n      <td>0</td>\n      <td>Lake Nyasa</td>\n      <td>Kamba</td>\n      <td>Ruvuma</td>\n      <td>10</td>\n      <td>3</td>\n      <td>Mbinga</td>\n      <td>Mbamba bay</td>\n      <td>40</td>\n      <td>True</td>\n      <td>GeoData Consultants Ltd</td>\n      <td>VWC</td>\n      <td>DANIDA</td>\n      <td>True</td>\n      <td>2008</td>\n      <td>gravity</td>\n      <td>gravity</td>\n      <td>gravity</td>\n      <td>vwc</td>\n      <td>user-group</td>\n      <td>never pay</td>\n      <td>never pay</td>\n      <td>soft</td>\n      <td>good</td>\n      <td>dry</td>\n      <td>dry</td>\n      <td>spring</td>\n      <td>spring</td>\n      <td>groundwater</td>\n      <td>communal standpipe</td>\n      <td>communal standpipe</td>\n      <td>test</td>\n    </tr>\n  </tbody>\n</table>\n</div>"
     },
     "execution_count": 194,
     "metadata": {},
     "output_type": "execute_result"
    }
   ],
   "source": [
    "# differentiate train and test data\n",
    "train[\"type\"] = \"train\"\n",
    "test[\"type\"] = \"test\"\n",
    "\n",
    "# create a data column by merging both train and label set\n",
    "data = pd.concat([train, test], ignore_index=False)\n",
    "\n",
    "assert (data.shape[0] == train.shape[0] + test.shape[0])\n",
    "assert (data.shape[1] == train.shape[1] == test.shape[1])\n",
    "\n",
    "data.tail(2)"
   ],
   "metadata": {
    "collapsed": false,
    "pycharm": {
     "name": "#%%\n"
    }
   }
  },
  {
   "cell_type": "markdown",
   "source": [
    "The `installer` and `funder` columns have too much similar values.\n",
    "They can be grouped together\n",
    "\n",
    "Reference: https://github.com/sagol/pumpitup/blob/main/oof_model.ipynb"
   ],
   "metadata": {
    "collapsed": false,
    "pycharm": {
     "name": "#%% md\n"
    }
   }
  },
  {
   "cell_type": "code",
   "execution_count": 195,
   "outputs": [],
   "source": [
    "data['installer'] = data['installer'].astype(str).str.lower()\n",
    "\n",
    "data['installer'].replace(\n",
    "    to_replace=('fini water', 'fin water', 'finn water', 'finwater', 'finwate'),\n",
    "    value='finw', inplace=True)\n",
    "\n",
    "data['installer'].replace(to_replace='jaica co', value='jaica', inplace=True)\n",
    "\n",
    "data['installer'].replace(\n",
    "    to_replace=(\n",
    "        'district water department', 'district water depar', 'district council',\n",
    "        'district counci', 'village council orpha','kibaha town council',\n",
    "        'village council', 'coun', 'village counil', 'council',\n",
    "        'mbulu district council', 'counc', 'village council .oda',\n",
    "        'sangea district coun', 'songea district coun', 'villege council',\n",
    "        'district  council', 'quick win project /council', 'mbozi district council',\n",
    "        'village  council', 'municipal council', 'tabora municipal council',\n",
    "        'wb / district council'),\n",
    "    value='council', inplace=True)\n",
    "\n",
    "data['installer'].replace(\n",
    "    to_replace=(\n",
    "        'rc church', 'rc churc', 'rcchurch/cefa', 'irc', 'rc', 'rc ch', 'hw/rc',\n",
    "        'rc church/central gover', 'kkkt church', 'pentecost church', 'roman church',\n",
    "        'rc/mission', 'rc church/cefa', 'lutheran church', 'tag church',\n",
    "        'free pentecoste church of tanz', 'rc c', 'church', 'rc cathoric',\n",
    "        'morovian church', 'cefa/rc church', 'rc mission', 'anglican church',\n",
    "        'church of disciples', 'anglikana church', 'cetral government /rc',\n",
    "        'pentecostal church', 'cg/rc', 'rc missionary', 'sda church', 'methodist church', 'trc',\n",
    "        'rc msufi', 'haidomu lutheran church', 'baptist church', 'rc church brother',\n",
    "        'st magreth church', 'anglica church', 'global resource co', 'rc mi',\n",
    "        'baptist church of tanzania', 'fpct church', 'rc njoro', 'rc .church',\n",
    "        'rc mis', 'batist church', 'churc', 'dwe/anglican church','missi', 'mission',\n",
    "        'ndanda missions', 'rc/mission', 'cvs miss', 'missionaries', 'hydom luthelani',\n",
    "        'luthe', 'haydom lutheran hospital', 'lutheran', 'missio', 'germany missionary',\n",
    "        'grail mission kiseki bar', 'missionary', 'heri mission', 'german missionsry',\n",
    "        'wamissionari wa kikatoriki', 'neemia mission', 'wamisionari wa kikatoriki'),\n",
    "    value='church', inplace=True)\n",
    "\n",
    "data['installer'].replace(\n",
    "    to_replace=(\n",
    "        'central government', 'gove', 'central govt', 'gover', 'cipro/government',\n",
    "        'governme', 'adra /government', 'isf/government', 'adra/government',\n",
    "        'government /tcrs', 'village govt', 'government', 'government /community',\n",
    "        'concern /government', 'goverm', 'village government', 'cental government',\n",
    "        'govern', 'cebtral government', 'government /sda', 'tcrs /government',\n",
    "        'tanzania government', 'centra govt', 'colonial government', 'misri government',\n",
    "        'government and community', 'cetral government /rc', 'concern/government',\n",
    "        'government of misri', 'lwi &central government', 'governmen', 'government/tcrs', 'government /world vision',\n",
    "        'centra government'),\n",
    "    value='tanzanian government', inplace=True)\n",
    "\n",
    "data['installer'].replace(\n",
    "    to_replace=('world vission', 'world division', 'word divisio','world visiin'),\n",
    "    value='world vision', inplace=True)\n",
    "\n",
    "data['installer'].replace(to_replace=('unicrf', 'unisef'), value='unicef', inplace=True)\n",
    "\n",
    "data['installer'].replace(\n",
    "    to_replace=(\n",
    "        'commu', 'olgilai village community', 'adra /community', 'adra/community',\n",
    "        'rwe/ community', 'killflora /community', 'communit', 'taboma/community',\n",
    "        'arab community', 'adra/ community', 'sekei village community', 'rwe/community',\n",
    "        'arabs community', 'village community', 'government /community',\n",
    "        'dads/village community', 'killflora/ community', 'mtuwasa and community',\n",
    "        'rwe /community', 'ilwilo community', 'summit for water/community',\n",
    "        'igolola community', 'ngiresi village community', 'rwe community',\n",
    "        'african realief committe of ku', 'twesa /community', 'shelisheli commission',\n",
    "        'twesa/ community', 'marumbo community', 'government and community',\n",
    "        'community bank', 'kitiangare village community', 'oldadai village community',\n",
    "        'twesa/community', 'tlc/community', 'maseka community', 'islamic community',\n",
    "        'district community j', 'village water commission', 'village community members',\n",
    "        'tcrs/village community', 'village water committee', 'comunity'),\n",
    "    value='community', inplace=True)\n",
    "\n",
    "data['installer'].replace(\n",
    "    to_replace=('danid', 'danda','danida co', 'danny', 'daniad', 'dannida', 'danids'),\n",
    "    value='danida', inplace=True)\n",
    "\n",
    "data['installer'].replace(\n",
    "    to_replace=('hesaws', 'huches', 'hesaw', 'hesawz', 'hesawq', 'hesewa'),\n",
    "    value='hesawa', inplace=True)\n",
    "\n",
    "data['installer'].replace(\n",
    "    to_replace=(\n",
    "        'dwsp', 'kkkt _ konde and dwe', 'rwe/dwe', 'rwedwe', 'dwe/', 'dw', 'dwr',\n",
    "        'dwe}', 'dwt', 'dwe /tassaf', 'dwe/ubalozi wa marekani', 'consultant and dwe',\n",
    "        'dwe & lwi', 'ubalozi wa marekani /dwe', 'dwe&', 'dwe/tassaf', 'dw$',\n",
    "        'dw e', 'tcrs/dwe', 'dw#', 'dweb', 'tcrs /dwe', 'water aid/dwe', 'dww'),\n",
    "    value='dwe', inplace=True)\n",
    "\n",
    "data['installer'].replace(\n",
    "    to_replace=(\n",
    "        'africa muslim', 'muslimu society(shia)', 'africa muslim agenc',\n",
    "        'african muslims age', 'muslimehefen international','islamic',\n",
    "        'the isla', 'islamic agency tanzania',  'islam', 'nyabibuye islamic center'),\n",
    "    value='muslims', inplace=True)\n",
    "\n",
    "data['installer'].replace(\n",
    "    to_replace=(\n",
    "        'british colonial government', 'british government', 'britain'),\n",
    "    value='british', inplace=True)\n",
    "\n",
    "data['installer'].replace(\n",
    "    to_replace=(\n",
    "        'tcrs/tlc', 'tcrs /care', 'cipro/care/tcrs', 'tcrs kibondo', 'tcrs.tlc',\n",
    "        'tcrs /twesa', 'tassaf /tcrs', 'tcrs/care', 'tcrs twesa', 'rwe/tcrs',\n",
    "        'tcrs/twesa', 'tassaf/ tcrs', 'tcrs/ tassaf', 'tcrs/ twesa', 'tcrs a',\n",
    "        'tassaf/tcrs'),\n",
    "    value='tcrs', inplace=True)\n",
    "\n",
    "data['installer'].replace(\n",
    "    to_replace=(\n",
    "        'kkkt-dioces ya pare', 'kkkt leguruki', 'kkkt ndrumangeni', 'kkkt dme',\n",
    "        'kkkt kilinga', 'kkkt canal', 'kkkt katiti juu', 'kkkt mareu'),\n",
    "    value='kkkt', inplace=True)\n",
    "\n",
    "data['installer'].replace(to_replace=('norad/'), value='norad', inplace=True)\n",
    "\n",
    "data['installer'].replace( to_replace=('tasaf/dmdd', 'dmdd/solider'),value='dmdd', inplace=True)\n",
    "\n",
    "data['installer'].replace(to_replace=('cjejow construction', 'cjej0'), value='cjejow', inplace=True)\n",
    "\n",
    "data['installer'].replace(\n",
    "    to_replace=('china henan constuction', 'china henan contractor', 'china co.', 'chinese'),\n",
    "    value='china', inplace=True)\n",
    "\n",
    "data['installer'].replace(\n",
    "    to_replace=(\n",
    "        'local contract', 'local technician', 'local', 'local  technician',\n",
    "        'locall technician', 'local te', 'local technitian', 'local technical tec',\n",
    "        'local fundi', 'local technical', 'localtechnician', 'village local contractor',\n",
    "        'local l technician'),\n",
    "    value='local', inplace=True)\n",
    "\n",
    "data['installer'].replace(\n",
    "    to_replace=(\n",
    "        'oikos e .africa', 'oikos e.africa', 'africa amini alama',\n",
    "        'africa islamic agency tanzania', 'africare', 'african development foundation',\n",
    "        'oikos e. africa', 'oikos e.afrika', 'afroz ismail', 'africa', 'farm-africa',\n",
    "        'oikos e africa', 'farm africa', 'africaone', 'tina/africare', 'africaone ltd',\n",
    "        'african reflections foundation', 'africa m'),\n",
    "    value='africa', inplace=True)\n",
    "\n",
    "data['installer'].replace(to_replace=('h', 'he', 'hsw'), value='hsw', inplace=True)\n",
    "\n",
    "data['installer'].replace(to_replace=('jaica', 'jica'), value='jaica', inplace=True)\n",
    "\n",
    "data['installer'].replace(to_replace=('lawatefuka water sup', 'losaa-kia water supp'), value='water sup', inplace=True)\n",
    "\n",
    "data['installer'].replace(to_replace=('water', 'water aid', 'water board'), value='water', inplace=True)\n",
    "\n",
    "data['installer'].replace(to_replace=('region water department', 'sengerema water department'), value='department', inplace=True)\n",
    "\n",
    "data['installer'].replace(to_replace=('oxfam', 'oxfarm'), value='oxfarm', inplace=True)\n",
    "\n",
    "data['installer'].replace(to_replace=('priva', 'private'), value='private', inplace=True)\n",
    "\n",
    "data['installer'].replace(to_replace=('twe', 'twesa'), value='twesa', inplace=True)\n",
    "\n",
    "data['installer'].replace(to_replace=('villa', 'villagers'), value='villagers', inplace=True)\n",
    "\n",
    "data['installer'].replace(to_replace=('wa', 'wachina', 'wananchi'), value='wa', inplace=True)\n",
    "\n",
    "data['installer'].replace(to_replace=('0', 'nan', '-'), value='other', inplace=True)\n",
    "\n",
    "df_installer_cnt = data.groupby('installer')['installer'].count()\n",
    "other_list = df_installer_cnt[df_installer_cnt<71].index.tolist()\n",
    "data['installer'].replace(to_replace=other_list, value='other', inplace=True)"
   ],
   "metadata": {
    "collapsed": false,
    "pycharm": {
     "name": "#%%\n"
    }
   }
  },
  {
   "cell_type": "code",
   "execution_count": 196,
   "outputs": [],
   "source": [
    "data['funder'] = data['funder'].astype(str).str.lower()\n",
    "\n",
    "data['funder'].replace(\n",
    "    to_replace=(\n",
    "        'kkkt_makwale', 'kkkt-dioces ya pare', 'world vision/ kkkt', 'kkkt church',\n",
    "        'kkkt leguruki', 'kkkt ndrumangeni', 'kkkt dme', 'kkkt canal', 'kkkt usa',\n",
    "        'kkkt mareu'),\n",
    "    value='kkkt', inplace=True)\n",
    "\n",
    "data['funder'].replace(\n",
    "    to_replace=(\n",
    "        'government of tanzania', 'norad /government', 'government/ community',\n",
    "        'cipro/government', 'isf/government', 'finidagermantanzania govt',\n",
    "        'government /tassaf', 'finida german tanzania govt', 'village government',\n",
    "        'tcrs /government', 'village govt', 'government/ world bank',\n",
    "        'danida /government', 'dhv/gove', 'concern /govern', 'vgovernment',\n",
    "        'lwi & central government', 'government /sda', 'koica and tanzania government',\n",
    "        'world bank/government', 'colonial government', 'misri government',\n",
    "        'government and community', 'concern/governm', 'government of misri',\n",
    "        'government/tassaf', 'government/school', 'government/tcrs', 'unhcr/government',\n",
    "        'government /world vision', 'norad/government', 'ministry of water'),\n",
    "    value='government', inplace=True)\n",
    "\n",
    "data['funder'].replace(\n",
    "    to_replace=(\n",
    "        'british colonial government', 'japan government', 'china government',\n",
    "        'finland government', 'belgian government', 'italy government',\n",
    "        'irish government', 'egypt government', 'iran gover', 'swedish', 'finland'),\n",
    "    value='foreign government', inplace=True)\n",
    "\n",
    "data['funder'].replace(\n",
    "    to_replace=(\n",
    "        'rc church', 'anglican church', 'rc churc', 'rc ch', 'rcchurch/cefa',\n",
    "        'irc', 'rc', 'churc', 'hw/rc', 'rc church/centr', 'pentecosta church',\n",
    "        'roman church', 'rc/mission', \"ju-sarang church' and bugango\",\n",
    "        'lutheran church', 'roman cathoric church', 'tag church ub', 'aic church',\n",
    "        'free pentecoste church of tanz', 'tag church', 'fpct church', 'rc cathoric',\n",
    "        'baptist church', 'morovian church', 'cefa/rcchurch', 'rc mission',\n",
    "        'bukwang church saints', 'agt church', 'church of disciples', 'rc mofu',\n",
    "        \"gil cafe'church'\", 'pentecostal church', 'bukwang church saint',\n",
    "        'eung am methodist church', 'rc/dwe', 'cg/rc', 'eung-am methodist church',\n",
    "        'rc missionary', 'sda church', 'methodist church', 'rc msufi',\n",
    "        'haidomu lutheran church', 'nazareth church', 'st magreth church',\n",
    "        'agape churc', 'rc missi', 'rc mi', 'rc njoro', 'world vision/rc church',\n",
    "        'pag church', 'batist church', 'full gospel church', 'nazalet church',\n",
    "        'dwe/anglican church', 'missi', 'mission', 'missionaries', 'cpps mission',\n",
    "        'cvs miss', 'grail mission kiseki bar', 'shelisheli commission', 'missionary',\n",
    "        'heri mission', 'german missionary', 'wamissionari wa kikatoriki',\n",
    "        'rc missionary', 'germany missionary', 'missio', 'neemia mission', 'rc missi',\n",
    "        'hydom luthelani', 'luthe', 'lutheran church',  'haydom lutheran hospital',\n",
    "        'village council/ haydom luther', 'lutheran', 'haidomu lutheran church',\n",
    "        'resolute golden pride project', 'resolute mininggolden pride',\n",
    "        'germany cristians'),\n",
    "    value='church', inplace=True)\n",
    "\n",
    "data['funder'].replace(\n",
    "    to_replace=(\n",
    "        'olgilai village community', 'commu', 'community', 'arab community',\n",
    "        'sekei village community', 'arabs community', 'village community',\n",
    "        'mtuwasa and community', 'ilwilo community', 'igolola community',\n",
    "        'ngiresi village community', 'marumbo community', 'village communi',\n",
    "        'comune di roma', 'comunity construction fund', 'community bank',\n",
    "        \"oak'zion' and bugango b' commu\", 'kitiangare village community',\n",
    "        'oldadai village community', 'tlc/community', 'maseka community',\n",
    "        'islamic community',  'tcrs/village community', 'buluga subvillage community',\n",
    "        'okutu village community', 'rural water supply and sanitat'),\n",
    "    value='community', inplace=True)\n",
    "\n",
    "data['funder'].replace(\n",
    "    to_replace=(\n",
    "        'council', 'wb / district council', 'cdtfdistrict council',\n",
    "        'sangea district council', 'mheza distric counc', 'kyela council',\n",
    "        'kibaha town council', 'swidish', 'mbozi district council',\n",
    "        'village council/ rose kawala',  'songea municipal counci',\n",
    "        'quick win project /council', 'village council', 'villege council',\n",
    "        'tabora municipal council', 'kilindi district co', 'kigoma municipal council',\n",
    "        'district council', 'municipal council', 'district medical',\n",
    "        'sengerema district council', 'town council', 'mkinga  distric cou',\n",
    "        'songea district council', 'district rural project', 'mkinga distric coun',\n",
    "        'dadis'),\n",
    "    value='district', inplace=True)\n",
    "\n",
    "data['funder'].replace(\n",
    "    to_replace=(\n",
    "        'tcrs.tlc', 'tcrs /care', 'tcrst', 'cipro/care/tcrs', 'tcrs/care', 'tcrs kibondo'),\n",
    "    value='tcrs', inplace=True)\n",
    "\n",
    "data['funder'].replace(\n",
    "    to_replace=(\n",
    "        'fini water', 'finw', 'fin water', 'finn water', 'finwater'),\n",
    "    value='fini', inplace=True)\n",
    "\n",
    "data['funder'].replace(\n",
    "    to_replace=(\n",
    "        'islamic', 'the isla', 'islamic found', 'islamic agency tanzania',\n",
    "        'islam', 'muislam', 'the islamic', 'nyabibuye islamic center', 'islamic society', 'african muslim agency',\n",
    "        'muslims', 'answeer muslim grou', 'muslimu society(shia)',\n",
    "        'unicef/african muslim agency', 'muslim world', 'muslimehefen international',\n",
    "        'shear muslim', 'muslim society'),\n",
    "    value='islam', inplace=True)\n",
    "\n",
    "data['funder'].replace(\n",
    "    to_replace=('danida', 'ms-danish', 'unhcr/danida', 'tassaf/ danida'),\n",
    "    value='danida', inplace=True)\n",
    "\n",
    "data['funder'].replace(\n",
    "    to_replace=(\n",
    "        'hesawa', 'hesawz', 'hesaw', 'hhesawa', 'hesawwa', 'hesawza', 'hesswa',\n",
    "        'hesawa and concern world wide'),\n",
    "    value='hesawa', inplace=True)\n",
    "\n",
    "data['funder'].replace(\n",
    "    to_replace=('world vision/adra', 'game division', 'worldvision'),\n",
    "    value='world vision', inplace=True)\n",
    "\n",
    "data['funder'].replace(\n",
    "    to_replace=(\n",
    "        'germany republi', 'a/co germany', 'aco/germany', 'bingo foundation germany',\n",
    "        'africa project ev germany', 'tree ways german'),\n",
    "    value='germany', inplace=True)\n",
    "\n",
    "data['funder'].replace( to_replace=('private', 'private individual'), value='private', inplace=True)\n",
    "\n",
    "data['funder'].replace(to_replace=('ces (gmbh)', 'ces(gmbh)'), value='ces', inplace=True\n",
    ")\n",
    "\n",
    "data['funder'].replace(to_replace=('concern', 'concern world wide'), value='concern', inplace=True\n",
    ")\n",
    "\n",
    "data['funder'].replace(to_replace=('jaica', 'jica'), value='concern', inplace=True)\n",
    "\n",
    "data['funder'].replace(to_replace=('jaica', 'jica'), value='concern', inplace=True)\n",
    "\n",
    "data['funder'].replace(to_replace=('lawatefuka water supply', 'magadini-makiwaru water', 'water', 'wateraid'), value='concern', inplace=True)\n",
    "\n",
    "data['funder'].replace(to_replace=('oxfam', 'oxfarm'), value='oxfarm', inplace=True)\n",
    "\n",
    "data['funder'].replace(to_replace=('0', 'nan', '-'), value='other', inplace=True)\n",
    "df_funder_cnt = data.groupby('funder')['funder'].count()\n",
    "other_list = df_funder_cnt[df_funder_cnt < 98].index.tolist()\n",
    "data['funder'].replace(to_replace=other_list, value='other', inplace=True)"
   ],
   "metadata": {
    "collapsed": false,
    "pycharm": {
     "name": "#%%\n"
    }
   }
  },
  {
   "cell_type": "markdown",
   "source": [
    "Sanitizing `null` values\n",
    "\n",
    "1. For boolean columns: -> fill with median value"
   ],
   "metadata": {
    "collapsed": false,
    "pycharm": {
     "name": "#%% md\n"
    }
   }
  },
  {
   "cell_type": "code",
   "execution_count": 197,
   "outputs": [],
   "source": [
    "# replace boolean cols with median values\n",
    "data[\"public_meeting\"].fillna(data[\"public_meeting\"].median(), inplace=True)\n",
    "data[\"permit\"].fillna(data[\"permit\"].median(), inplace=True)"
   ],
   "metadata": {
    "collapsed": false,
    "pycharm": {
     "name": "#%%\n"
    }
   }
  },
  {
   "cell_type": "markdown",
   "source": [
    "2. For string/object values, replace with \"other\"\n",
    "\n",
    "Reference: https://stackoverflow.com/a/60753938/10582056"
   ],
   "metadata": {
    "collapsed": false,
    "pycharm": {
     "name": "#%% md\n"
    }
   }
  },
  {
   "cell_type": "code",
   "source": [
    "nan_cols = ['subvillage', 'scheme_management', 'scheme_name']\n",
    "imputer = SimpleImputer(missing_values=np.nan, strategy='constant', fill_value = 'other')\n",
    "data[nan_cols] = imputer.fit_transform(data[nan_cols])"
   ],
   "metadata": {
    "collapsed": false,
    "pycharm": {
     "name": "#%%\n"
    }
   },
   "execution_count": 198,
   "outputs": []
  },
  {
   "cell_type": "markdown",
   "source": [
    "3. For numeric columns\n",
    "\n",
    "Reference: https://github.com/villeheilala/pumpitup/blob/master/pumpitup_preprocess.ipynb"
   ],
   "metadata": {
    "collapsed": false,
    "pycharm": {
     "name": "#%% md\n"
    }
   }
  },
  {
   "cell_type": "code",
   "execution_count": 199,
   "outputs": [],
   "source": [
    "data[\"amount_tsh\"] = data[\"amount_tsh\"].apply(lambda x: np.log(round(x)) if round(x) > 0 else 0)\n",
    "data[\"population\"] = data[\"population\"].apply(lambda x: np.log(x) if x > 0 else 0)"
   ],
   "metadata": {
    "collapsed": false,
    "pycharm": {
     "name": "#%%\n"
    }
   }
  },
  {
   "cell_type": "markdown",
   "source": [
    "4. For `gps_height`, fill with reference data\n",
    "\n",
    "Reference: https://github.com/villeheilala/pumpitup/blob/master/heights.csv"
   ],
   "metadata": {
    "collapsed": false,
    "pycharm": {
     "name": "#%% md\n"
    }
   }
  },
  {
   "cell_type": "code",
   "execution_count": 200,
   "outputs": [
    {
     "name": "stdout",
     "output_type": "stream",
     "text": [
      "OK\n"
     ]
    }
   ],
   "source": [
    "fill_heights = pd.read_csv(r\"source/heights.csv\", index_col=\"id\")\n",
    "\n",
    "data[\"gps_height\"].replace(to_replace=0, value=np.nan, inplace=True)\n",
    "data[\"gps_height\"] = data[\"gps_height\"].fillna(fill_heights[\"gps_height\"])\n",
    "data[\"gps_height\"].fillna(value=data[\"gps_height\"].mean(), inplace=True)\n",
    "\n",
    "assert (data[\"gps_height\"].isnull().sum() == 0)"
   ],
   "metadata": {
    "collapsed": false,
    "pycharm": {
     "name": "#%%\n"
    }
   }
  },
  {
   "cell_type": "markdown",
   "source": [
    "Drop unnecessary / similar columns\n",
    "\n",
    "Reference: https://github.com/villeheilala/pumpitup/blob/master/pumpitup_preprocess.ipynb"
   ],
   "metadata": {
    "collapsed": false,
    "pycharm": {
     "name": "#%% md\n"
    }
   }
  },
  {
   "cell_type": "code",
   "execution_count": 55,
   "outputs": [],
   "source": [
    "# similar_cols = ['scheme_management', 'quantity_group', 'water_quality',\n",
    "#                 'region_code', 'payment_type', 'extraction_type',\n",
    "#                 'waterpoint_type_group', 'date_recorded', 'recorded_by']\n",
    "similar_cols = [\"date_recorded\",\"recorded_by\",\"ward\",\"wpt_name\"]\n",
    "data.drop(similar_cols, inplace=True, axis=1)"
   ],
   "metadata": {
    "collapsed": false,
    "pycharm": {
     "name": "#%%\n"
    }
   }
  },
  {
   "cell_type": "markdown",
   "source": [
    "Data types in `data` are mixed. So transform\n",
    "\n",
    "1. computable `numeric` and `boolean`(=[`public_meeting`, `permit`]) types to `float64`\n",
    "\n",
    "2. string columns 'category' for quick transformations"
   ],
   "metadata": {
    "collapsed": false,
    "pycharm": {
     "name": "#%% md\n"
    }
   }
  },
  {
   "cell_type": "code",
   "execution_count": 56,
   "outputs": [],
   "source": [
    "# numeric columns\n",
    "numeric_columns = [\"amount_tsh\", \"gps_height\", \"longitude\", \"latitude\", \"population\", \"public_meeting\", \"permit\", \"district_code\",\n",
    "                   \"construction_year\", \"num_private\"]\n",
    "\n",
    "# convert to float64\n",
    "for col in numeric_columns:\n",
    "    data[col] = data[col].astype(\"float64\")\n",
    "\n",
    "categorical_columns = ['funder', 'installer', 'basin', 'region', 'lga',\n",
    "                       'extraction_type_group',\n",
    "                       'extraction_type_class', 'management',\n",
    "                       'management_group', 'payment', 'quality_group',\n",
    "                       'quantity', 'source',\n",
    "                       'source_type', 'source_class', 'waterpoint_type',\n",
    "                       'type']\n",
    "\n",
    "for col in categorical_columns:\n",
    "    data[col] = data[col].astype(\"category\")"
   ],
   "metadata": {
    "collapsed": false,
    "pycharm": {
     "name": "#%%\n"
    }
   }
  },
  {
   "cell_type": "markdown",
   "source": [
    "Working with `Latitude` and `Longitude`\n",
    "\n",
    "Reference: https://stackoverflow.com/a/31398615/10582056\n",
    "\n",
    "1. Find the haversine distance"
   ],
   "metadata": {
    "collapsed": false
   }
  },
  {
   "cell_type": "code",
   "execution_count": 57,
   "outputs": [],
   "source": [
    "mean_lat = data[\"latitude\"].mean()\n",
    "mean_long = data[\"longitude\"].mean()\n",
    "\n",
    "data[\"haversine_distance\"] = data.apply(lambda row: haversine((row[\"latitude\"], row[\"longitude\"]), (mean_lat, mean_long), unit=Unit.KILOMETERS), axis=1)"
   ],
   "metadata": {
    "collapsed": false,
    "pycharm": {
     "name": "#%%\n"
    }
   }
  },
  {
   "cell_type": "markdown",
   "source": [
    "2. Convert `latitude`, `longitude` to `x_coordinate`, `y_coordinate` and `z_coordinate`\n",
    "\n",
    "Reference: https://heartbeat.fritz.ai/working-with-geospatial-data-in-machine-learning-ad4097c7228d"
   ],
   "metadata": {
    "collapsed": false,
    "pycharm": {
     "name": "#%% md\n"
    }
   }
  },
  {
   "cell_type": "code",
   "execution_count": 58,
   "outputs": [],
   "source": [
    "data['x_coordinate'] = np.cos(data['latitude']) * np.cos(data['longitude'])\n",
    "data['y_coordinate'] = np.cos(data['latitude']) * np.sin(data['longitude'])\n",
    "data['z_coordinate'] = np.sin(data['latitude'])\n",
    "\n",
    "# now that I don't need lat and long, remove them\n",
    "data = data.drop([\"latitude\", \"longitude\"], axis=1)"
   ],
   "metadata": {
    "collapsed": false,
    "pycharm": {
     "name": "#%%\n"
    }
   }
  },
  {
   "cell_type": "markdown",
   "source": [
    "Doing standardisation with `StandardScalar`"
   ],
   "metadata": {
    "collapsed": false,
    "pycharm": {
     "name": "#%% md\n"
    }
   }
  },
  {
   "cell_type": "code",
   "execution_count": 59,
   "outputs": [],
   "source": [
    "standard_cols = [\"amount_tsh\", \"gps_height\", \"num_private\", \"district_code\", \"population\", \"haversine_distance\"]\n",
    "scalar = StandardScaler()\n",
    "\n",
    "data[standard_cols] = scalar.fit_transform(data[standard_cols])"
   ],
   "metadata": {
    "collapsed": false,
    "pycharm": {
     "name": "#%%\n"
    }
   }
  },
  {
   "cell_type": "markdown",
   "source": [
    "Make all strings to lowercase"
   ],
   "metadata": {
    "collapsed": false,
    "pycharm": {
     "name": "#%% md\n"
    }
   }
  },
  {
   "cell_type": "code",
   "execution_count": 60,
   "outputs": [],
   "source": [
    "string_cols = [col for col in data.columns if data[col].dtype in (\"category\", object)]\n",
    "for col in string_cols:\n",
    "    data[col] = data[col].apply(lambda x: x.lower(), convert_dtype=False)"
   ],
   "metadata": {
    "collapsed": false,
    "pycharm": {
     "name": "#%%\n"
    }
   }
  },
  {
   "cell_type": "markdown",
   "source": [
    "## Apply CatBoost\n",
    "\n",
    "The target labels should be numbers rather than strings. So encode them first\n",
    "\n",
    "Reference: https://stackoverflow.com/a/52061440/10582056"
   ],
   "metadata": {
    "collapsed": false,
    "pycharm": {
     "name": "#%% md\n"
    }
   }
  },
  {
   "cell_type": "code",
   "execution_count": 61,
   "outputs": [],
   "source": [
    "labels[\"status_group\"] =  labels[\"status_group\"].astype(\"category\")\n",
    "label_dict = dict(enumerate(labels[\"status_group\"].cat.categories))\n",
    "\n",
    "labels[\"status_group\"] =  labels[\"status_group\"].cat.codes"
   ],
   "metadata": {
    "collapsed": false,
    "pycharm": {
     "name": "#%%\n"
    }
   }
  },
  {
   "cell_type": "markdown",
   "source": [
    "Split data to train and test"
   ],
   "metadata": {
    "collapsed": false
   }
  },
  {
   "cell_type": "code",
   "execution_count": 62,
   "outputs": [
    {
     "name": "stdout",
     "output_type": "stream",
     "text": [
      "Good to go\n"
     ]
    }
   ],
   "source": [
    "# size = train.shape[0]\n",
    "size = 1000\n",
    "\n",
    "target = labels[\"status_group\"].values.ravel()\n",
    "\n",
    "train = data[data.type.eq(\"train\")].drop(\"type\", axis=1)\n",
    "test = data[data.type.eq(\"test\")].drop(\"type\", axis=1)\n",
    "\n",
    "X_train, X_test, y_train, y_test = train_test_split(\n",
    "    train.head(size),\n",
    "    target[:size],\n",
    "    test_size = 0.2,\n",
    "    shuffle = True,\n",
    "    stratify = target[:size],\n",
    "    random_state = 42\n",
    ")\n",
    "\n",
    "print(\"Good to go\")"
   ],
   "metadata": {
    "collapsed": false,
    "pycharm": {
     "name": "#%%\n"
    }
   }
  },
  {
   "cell_type": "code",
   "execution_count": 63,
   "outputs": [],
   "source": [
    "# displaying object column data\n",
    "# both `train` and `test` have same columns\n",
    "\n",
    "# col_details = []\n",
    "# for col in train.columns:\n",
    "#     col_details.append((col, train[col].dtype, train[col].nunique(), list(train[col].unique())))\n",
    "#\n",
    "# col_details.sort(key=lambda x: x[-2])\n",
    "#\n",
    "# temp = pd.DataFrame(col_details, columns=[\"Column\", \"Dtype\", \"N_Unique\", \"Unique_vals\"])\n",
    "# temp"
   ],
   "metadata": {
    "collapsed": false,
    "pycharm": {
     "name": "#%%\n"
    }
   }
  },
  {
   "cell_type": "markdown",
   "source": [
    "Hyper parameter tuning for catboost\n",
    "\n",
    "Reference :\n",
    "1. https://stats.stackexchange.com/a/431105\n",
    "2. https://stats.stackexchange.com/a/457445"
   ],
   "metadata": {
    "collapsed": false,
    "pycharm": {
     "name": "#%% md\n"
    }
   }
  },
  {
   "cell_type": "code",
   "execution_count": 64,
   "outputs": [],
   "source": [
    "cat_features = [col for col in train.columns if data[col].dtype in (\"category\", object)]\n",
    "\n",
    "grid = {\n",
    "    \"n_estimators\":[800, 1000, 1200, 1500, 1700], # iterations\n",
    "    \"max_depth\": [5, 8, 10, 12, 15],\n",
    "    \"learning_rate\": [0.1, 0.3, 0.5, 0.7, 1],\n",
    "    \"l2_leaf_reg\": [1, 3, 5, 7],\n",
    "    \"max_ctr_complexity\": [3, 7, 11, 15], # <16\n",
    "    \"od_wait\": [50, 100, 300, 500, 700, 1000],\n",
    "    \"od_type\": [\"IncToDec\", \"Iter\"],\n",
    "    \"leaf_estimation_backtracking\": ['AnyImprovement'], # Armijo - GPU only\n",
    "    \"posterior_sampling\": [True, False],\n",
    "    \"auto_class_weights\": [\"Balanced\", \"SqrtBalanced\"],\n",
    "    \"leaf_estimation_method\": [\"Newton\", \"Gradient\"]\n",
    "}\n",
    "\n",
    "# scoring = {\n",
    "#     'accuracy': make_scorer(accuracy_score),\n",
    "#     'precision': make_scorer(precision_score, average = 'macro'),\n",
    "#     'recall': make_scorer(recall_score, average = 'macro'),\n",
    "#     'f1_macro': make_scorer(f1_score, average = 'macro'),\n",
    "#     'f1_weighted': make_scorer(f1_score, average = 'weighted'),\n",
    "#     # 'roc_auc': make_scorer(roc_auc_score, average='macro', multi_class=\"ovo\")\n",
    "#     'QUADRATIC_WEIGHT_SCORER': make_scorer(cohen_kappa_score, weights='quadratic')\n",
    "# }\n",
    "\n",
    "catboost = CatBoostClassifier(\n",
    "    cat_features=cat_features,\n",
    "    task_type=\"CPU\",\n",
    "    random_state=42,\n",
    "    loss_function=\"MultiClass\",\n",
    "    class_names=[0, 1, 2],\n",
    "    allow_writing_files=False,\n",
    "    # thread_count=2,\n",
    "    nan_mode=\"Forbidden\",\n",
    "    fold_permutation_block=1\n",
    ")"
   ],
   "metadata": {
    "collapsed": false,
    "pycharm": {
     "name": "#%%\n"
    }
   }
  },
  {
   "cell_type": "markdown",
   "source": [
    "for cohen_kappa_score:\n",
    "\n",
    "Reference: https://www.kaggle.com/ksaaskil/pets-definitive-catboost-tuning"
   ],
   "metadata": {
    "collapsed": false,
    "pycharm": {
     "name": "#%% md\n"
    }
   }
  },
  {
   "cell_type": "code",
   "execution_count": 65,
   "outputs": [
    {
     "name": "stdout",
     "output_type": "stream",
     "text": [
      "Ready!\n"
     ]
    }
   ],
   "source": [
    "hrsv = HalvingRandomSearchCV(\n",
    "    estimator=catboost,\n",
    "    param_distributions=grid,\n",
    "    # scoring=make_scorer(cohen_kappa_score, weights='quadratic'),\n",
    "    scoring=make_scorer(f1_score, average = 'weighted'),\n",
    "    # scoring=scoring,\n",
    "    cv=3,\n",
    "    error_score='raise',\n",
    "    refit=False,\n",
    "    verbose=1,\n",
    "    random_state=42,\n",
    "    n_jobs=7\n",
    ")\n",
    "\n",
    "print(\"Ready!\")"
   ],
   "metadata": {
    "collapsed": false,
    "pycharm": {
     "name": "#%%\n"
    }
   }
  },
  {
   "cell_type": "code",
   "execution_count": null,
   "outputs": [
    {
     "name": "stdout",
     "output_type": "stream",
     "text": [
      "n_iterations: 4\n",
      "n_required_iterations: 4\n",
      "n_possible_iterations: 4\n",
      "min_resources_: 18\n",
      "max_resources_: 800\n",
      "aggressive_elimination: False\n",
      "factor: 3\n",
      "----------\n",
      "iter: 0\n",
      "n_candidates: 44\n",
      "n_resources: 18\n",
      "Fitting 3 folds for each of 44 candidates, totalling 132 fits\n",
      "----------\n",
      "iter: 1\n",
      "n_candidates: 15\n",
      "n_resources: 54\n",
      "Fitting 3 folds for each of 15 candidates, totalling 45 fits\n"
     ]
    }
   ],
   "source": [
    "hrsv.fit(X_train, y_train)"
   ],
   "metadata": {
    "collapsed": false,
    "pycharm": {
     "name": "#%%\n",
     "is_executing": true
    }
   }
  },
  {
   "cell_type": "code",
   "execution_count": null,
   "outputs": [],
   "source": [
    "print(hrsv.best_params_)\n",
    "print(hrsv.best_score_)\n",
    "print(\"Finished\")"
   ],
   "metadata": {
    "collapsed": false,
    "pycharm": {
     "name": "#%%\n",
     "is_executing": true
    }
   }
  },
  {
   "cell_type": "markdown",
   "source": [
    "{'od_wait': 100, 'od_type': 'IncToDec', 'n_estimators': 1200, 'max_depth': 10, 'max_ctr_complexity': 1, 'learning_rate': 0.5, 'l2_leaf_reg': 5}\n",
    "0.562962962962963\n",
    "\n",
    "{'od_wait': 300, 'od_type': 'IncToDec', 'n_estimators': 1000, 'max_depth': 15, 'max_ctr_complexity': 7, 'learning_rate': 1, 'l2_leaf_reg': 7}\n",
    "0.562962962962963\n",
    "\n",
    "{'od_wait': 300, 'od_type': 'IncToDec', 'n_estimators': 1000, 'max_depth': 15, 'max_ctr_complexity': 7, 'learning_rate': 1, 'l2_leaf_reg': 7}\n",
    "0.5888888888888889\n",
    "\n",
    "{'posterior_sampling': False, 'od_wait': 100, 'od_type': 'IncToDec', 'n_estimators': 1500, 'max_depth': 8, 'max_ctr_complexity': 3, 'learning_rate': 0.1, 'leaf_estimation_backtracking': 'AnyImprovement', 'l2_leaf_reg': 1}\n",
    "0.6562289562289562\n",
    "\n",
    "{'posterior_sampling': True, 'od_wait': 100, 'od_type': 'Iter', 'n_estimators': 1000, 'max_depth': 8, 'max_ctr_complexity': 15, 'learning_rate': 0.1, 'leaf_estimation_method': 'Newton', 'leaf_estimation_backtracking': 'AnyImprovement', 'l2_leaf_reg': 1, 'auto_class_weights': 'SqrtBalanced'}\n",
    "0.5888888888888889\n",
    "\n",
    "{'posterior_sampling': False, 'od_wait': 1000, 'od_type': 'IncToDec', 'n_estimators': 1700, 'max_depth': 12, 'max_ctr_complexity': 3, 'learning_rate': 0.3, 'leaf_estimation_method': 'Newton', 'leaf_estimation_backtracking': 'AnyImprovement', 'l2_leaf_reg': 5, 'auto_class_weights': 'SqrtBalanced'}\n",
    "0.5577584732407249"
   ],
   "metadata": {
    "collapsed": false,
    "pycharm": {
     "name": "#%% md\n"
    }
   }
  },
  {
   "cell_type": "code",
   "execution_count": null,
   "outputs": [],
   "source": [
    "# catboost = CatBoostClassifier(\n",
    "#     posterior_sampling=False,\n",
    "#     od_wait=1000,\n",
    "#     od_type=\"IncToDec\",\n",
    "#     n_estimators=1700,\n",
    "#     max_depth=12,\n",
    "#     max_ctr_complexity=3,\n",
    "#     learning_rate=0.3,\n",
    "#     leaf_estimation_method=\"Newton\",\n",
    "#     leaf_estimation_backtracking=\"AnyImprovement\",\n",
    "#     l2_leaf_reg=5,\n",
    "#     auto_class_weights='SqrtBalanced'\n",
    "# )\n"
   ],
   "metadata": {
    "collapsed": false,
    "pycharm": {
     "name": "#%%\n",
     "is_executing": true
    }
   }
  }
 ],
 "metadata": {
  "kernelspec": {
   "display_name": "Python 3",
   "language": "python",
   "name": "python3"
  },
  "language_info": {
   "codemirror_mode": {
    "name": "ipython",
    "version": 2
   },
   "file_extension": ".py",
   "mimetype": "text/x-python",
   "name": "python",
   "nbconvert_exporter": "python",
   "pygments_lexer": "ipython2",
   "version": "2.7.6"
  }
 },
 "nbformat": 4,
 "nbformat_minor": 0
}