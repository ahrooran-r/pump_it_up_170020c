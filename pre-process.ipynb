{
 "cells": [
  {
   "cell_type": "code",
   "execution_count": 629,
   "metadata": {},
   "outputs": [
    {
     "name": "stdout",
     "output_type": "stream",
     "text": [
      "Import complete\n"
     ]
    }
   ],
   "source": [
    "import numpy as np\n",
    "import pandas as pd\n",
    "pd.set_option('display.max_columns', None)\n",
    "pd.set_option(\"max_rows\", 200)\n",
    "\n",
    "from scipy.stats import shapiro\n",
    "\n",
    "from haversine import haversine, Unit\n",
    "\n",
    "from sklearn.preprocessing import StandardScaler, MinMaxScaler\n",
    "from sklearn.impute import SimpleImputer, KNNImputer\n",
    "\n",
    "from sklearn.cluster import DBSCAN\n",
    "\n",
    "import matplotlib.pyplot as plt\n",
    "import seaborn as sns\n",
    "\n",
    "import datetime\n",
    "\n",
    "print(\"Import complete\")"
   ]
  },
  {
   "cell_type": "markdown",
   "source": [
    "Utility methods to fill missing values for categorical columns\n",
    "\n",
    "Reference: https://github.com/rvt123/Medium_Articles/blob/main/Data_Preprocessing_Reduce_Categories/ARTICLE_MEDIUM_DATA_PREPROCESSING_DECREASE_CATEGORY.ipynb\n",
    "\n",
    "Might try KNN based imputation if this doesn't work"
   ],
   "metadata": {
    "collapsed": false,
    "pycharm": {
     "name": "#%% md\n"
    }
   }
  },
  {
   "cell_type": "code",
   "execution_count": 630,
   "outputs": [],
   "source": [
    "def find_index_(df,to_find,col):\n",
    "    min_=1\n",
    "    max_=len(df)\n",
    "    to_find=to_find\n",
    "    while min_<max_:\n",
    "        mid=int((min_+max_)/2)\n",
    "        if(df[1:mid][col].isna().sum()==to_find)and(df[col][(mid-1):mid].isna()).values:\n",
    "            return mid\n",
    "        elif(df[1:mid][col].isna().sum()>to_find)or(df[1:mid][col].isna().sum()==to_find):\n",
    "            max_=mid-1\n",
    "        else:\n",
    "            min_=mid+1\n",
    "        if max_==min_:\n",
    "            if(df[1:min_][col].isna().sum()==to_find)and((df[col][(min_-1):min_].isna()).values):\n",
    "                return min_\n",
    "\n",
    "def replace_cat_list(df,col,cat_list):\n",
    "    count_cat_dict_initial = {'Total_cat':0}\n",
    "    for cat in cat_list:\n",
    "        count_cat_dict_initial[cat] = df.loc[df[col]==cat,col].count()\n",
    "        count_cat_dict_initial['Total_cat'] = count_cat_dict_initial.get('Total_cat') + count_cat_dict_initial[cat]\n",
    "    count_cat_dict_initial['Total'] = len(df[col])\n",
    "    count_cat_dict_final = {'Total_cat':0}\n",
    "    for cat in cat_list[:-1]:\n",
    "        count_cat_dict_final[cat] = int((count_cat_dict_initial.get(cat)/count_cat_dict_initial.get('Total_cat'))*count_cat_dict_initial.get('Total'))\n",
    "        count_cat_dict_final['Total_cat'] = count_cat_dict_final.get('Total_cat') + count_cat_dict_final[cat]\n",
    "    count_cat_dict_final[cat_list[-1]] = count_cat_dict_initial['Total'] - count_cat_dict_final['Total_cat']\n",
    "    fill_dict = {}\n",
    "    for cat in cat_list:\n",
    "        fill_dict[cat] = count_cat_dict_final[cat] - count_cat_dict_initial[cat]\n",
    "    for cat in cat_list[:-1]:\n",
    "        fill_index = find_index_(df,fill_dict.get(cat),col)\n",
    "        df.loc[0:fill_index,col] = df.loc[0:fill_index,col].fillna(cat)\n",
    "    df.loc[:,col] = df.loc[:,col].fillna(cat_list[-1])\n",
    "    return df"
   ],
   "metadata": {
    "collapsed": false,
    "pycharm": {
     "name": "#%%\n"
    }
   }
  },
  {
   "cell_type": "markdown",
   "metadata": {},
   "source": [
    "## Import Files"
   ]
  },
  {
   "cell_type": "code",
   "execution_count": 631,
   "metadata": {
    "pycharm": {
     "name": "#%%\n"
    }
   },
   "outputs": [
    {
     "name": "stdout",
     "output_type": "stream",
     "text": [
      "train data => rows: 59400, cols: 40\n",
      "labels data => rows: 59400, cols: 2\n",
      "test data => rows: 14850, cols: 40\n"
     ]
    }
   ],
   "source": [
    "# test data\n",
    "test = pd.read_csv(r\"source/test_features.csv\")\n",
    "\n",
    "# train data\n",
    "train = pd.read_csv(r\"source/train_features.csv\")\n",
    "\n",
    "# target\n",
    "labels = pd.read_csv(r\"source/train_labels.csv\")\n",
    "\n",
    "# check whether rows are equal\n",
    "print(\"train data => rows: %s, cols: %s\" % (train.shape[0], train.shape[1]))\n",
    "print(\"labels data => rows: %s, cols: %s\" % (labels.shape[0], labels.shape[1]))\n",
    "print(\"test data => rows: %s, cols: %s\" % (test.shape[0], test.shape[1]))\n",
    "\n",
    "assert(train.shape[1] == test.shape[1])\n",
    "\n",
    "# heights column\n",
    "fill_heights = pd.read_csv(r\"source/heights.csv\", index_col=\"id\")"
   ]
  },
  {
   "cell_type": "markdown",
   "metadata": {
    "pycharm": {
     "name": "#%% md\n"
    }
   },
   "source": [
    "## Pre-processing"
   ]
  },
  {
   "cell_type": "code",
   "execution_count": 632,
   "metadata": {
    "pycharm": {
     "name": "#%%\n"
    }
   },
   "outputs": [
    {
     "name": "stdout",
     "output_type": "stream",
     "text": [
      "duplicates in train dataset: 0\n",
      "duplicates in label dataset: 0\n",
      "duplicates in test dataset: 0\n"
     ]
    }
   ],
   "source": [
    "# check for duplicates in data\n",
    "train_dup_count = np.sum(train.duplicated())\n",
    "label_dup_count = np.sum(labels.duplicated())\n",
    "test_dup_count = np.sum(test.duplicated())\n",
    "\n",
    "print(\"duplicates in train dataset: %s\" % train_dup_count)\n",
    "print(\"duplicates in label dataset: %s\" % label_dup_count)\n",
    "print(\"duplicates in test dataset: %s\" % test_dup_count)\n",
    "\n",
    "assert(train_dup_count == 0 and label_dup_count == 0 and test_dup_count == 0)"
   ]
  },
  {
   "cell_type": "code",
   "execution_count": 633,
   "metadata": {
    "pycharm": {
     "name": "#%%\n"
    }
   },
   "outputs": [],
   "source": [
    "# make id as index\n",
    "train = train.set_index(\"id\")\n",
    "test = test.set_index(\"id\")\n",
    "labels = labels.set_index(\"id\")"
   ]
  },
  {
   "cell_type": "code",
   "execution_count": 634,
   "metadata": {
    "pycharm": {
     "name": "#%%\n"
    }
   },
   "outputs": [],
   "source": [
    "# differentiate train and test data\n",
    "train[\"type\"] = \"train\"\n",
    "test[\"type\"] = \"test\"\n",
    "\n",
    "# create a data column by merging both train and label set\n",
    "data = pd.concat([train, test], ignore_index=False)\n",
    "\n",
    "# create train and label combo for visualization,\n",
    "# then same transformation can be applied to data\n",
    "visual = pd.merge(train, labels, on='id')\n",
    "\n",
    "# encode status group\n",
    "visual[\"status_group\"] =  visual[\"status_group\"].astype(\"category\")\n",
    "label_dict = dict(enumerate(visual[\"status_group\"].cat.categories))\n",
    "\n",
    "visual[\"status_group_codes\"] =  visual[\"status_group\"].cat.codes\n",
    "\n",
    "assert (data.shape[0] == train.shape[0] + test.shape[0])\n",
    "assert (data.shape[1] == train.shape[1] == test.shape[1])\n",
    "\n",
    "# only train data is here. so drop type\n",
    "visual.drop(\"type\", axis=1, inplace=True)\n",
    "assert (visual.shape[1] == train.shape[1] + labels.shape[1])\n",
    "\n",
    "together = [visual, data]"
   ]
  },
  {
   "cell_type": "markdown",
   "source": [
    "Order columns by their count of unique values descending order"
   ],
   "metadata": {
    "collapsed": false,
    "pycharm": {
     "name": "#%% md\n"
    }
   }
  },
  {
   "cell_type": "code",
   "execution_count": 635,
   "outputs": [
    {
     "data": {
      "text/plain": "0                  wpt_name\n1                subvillage\n2               scheme_name\n3                 installer\n4                      ward\n5                    funder\n6             date_recorded\n7                       lga\n8                    region\n9           extraction_type\n10    extraction_type_group\n11        scheme_management\n12               management\n13                   source\n14                    basin\n15            water_quality\n16    extraction_type_class\n17                  payment\n18             payment_type\n19              source_type\n20          waterpoint_type\n21            quality_group\n22    waterpoint_type_group\n23         management_group\n24                 quantity\n25           quantity_group\n26             source_class\n27             status_group\n28           public_meeting\n29                   permit\n30              recorded_by\nName: Column, dtype: object"
     },
     "execution_count": 635,
     "metadata": {},
     "output_type": "execute_result"
    }
   ],
   "source": [
    "# displaying object column data\n",
    "# both `train` and `test` have same columns\n",
    "\n",
    "df = visual\n",
    "col_details = []\n",
    "for col in df.columns:\n",
    "    if df[col].dtype in [\"category\", object]:\n",
    "        col_details.append((col, df[col].dtype, df[col].nunique(), list(df[col].unique())))\n",
    "col_details.sort(key=lambda x: 1 / x[-2])\n",
    "\n",
    "temp = pd.DataFrame(col_details, columns=[\"Column\", \"Dtype\", \"N_Unique\", \"Unique_vals\"])\n",
    "temp[\"Column\"]"
   ],
   "metadata": {
    "collapsed": false,
    "pycharm": {
     "name": "#%%\n"
    }
   }
  },
  {
   "cell_type": "markdown",
   "source": [
    "This will be deleted in future.\n",
    "Just for reference\n",
    "\n",
    "12               management\n",
    "13                   source\n",
    "14                    basin\n",
    "15            water_quality\n",
    "16    extraction_type_class\n",
    "17                  payment\n",
    "18             payment_type\n",
    "19              source_type\n",
    "20          waterpoint_type\n",
    "21            quality_group\n",
    "22    waterpoint_type_group\n",
    "23         management_group\n",
    "24                 quantity\n",
    "25           quantity_group\n",
    "26             source_class\n",
    "27           public_meeting\n",
    "28                   permit\n",
    "29              recorded_by"
   ],
   "metadata": {
    "collapsed": false,
    "pycharm": {
     "name": "#%% md\n"
    }
   }
  },
  {
   "cell_type": "markdown",
   "metadata": {
    "pycharm": {
     "name": "#%% md\n"
    }
   },
   "source": [
    "Start with `wpt_name` (Name of the waterpoint if there is one)\n",
    "\n",
    "References:\n",
    "1. https://github.com/drivendataorg/pump-it-up/blob/master/kamchatang/Water%20Pump%201%20-%20EDA%20and%20Data%20Cleaning.ipynb\n",
    "2. https://stackoverflow.com/a/58434981/10582056"
   ]
  },
  {
   "cell_type": "code",
   "execution_count": 636,
   "outputs": [
    {
     "data": {
      "text/plain": "none                       6.0%\nShuleni                    2.9%\nZahanati                   1.4%\nMsikitini                  0.9%\nKanisani                   0.5%\n                           ... \nKwa Medadi                 0.0%\nKwa Kubembeni              0.0%\nShule Ya Msingi Milanzi    0.0%\nFunua                      0.0%\nKwa Mzee Lugawa            0.0%\nName: wpt_name, Length: 37400, dtype: object"
     },
     "execution_count": 636,
     "metadata": {},
     "output_type": "execute_result"
    }
   ],
   "source": [
    "visual[\"wpt_name\"].fillna(\"missing\", inplace=True)\n",
    "visual[\"wpt_name\"].value_counts(normalize=True).mul(100).round(1).astype(str) + '%'"
   ],
   "metadata": {
    "collapsed": false,
    "pycharm": {
     "name": "#%%\n"
    }
   }
  },
  {
   "cell_type": "markdown",
   "source": [
    "1. Majority of water points are without names.\n",
    "2. Water points which have names are not significantly dominating\n",
    "\n",
    "Hence this column can be dropped"
   ],
   "metadata": {
    "collapsed": false,
    "pycharm": {
     "name": "#%% md\n"
    }
   }
  },
  {
   "cell_type": "code",
   "execution_count": 637,
   "outputs": [],
   "source": [
    "for df in together:\n",
    "    df.drop(\"wpt_name\", axis=1, inplace=True)"
   ],
   "metadata": {
    "collapsed": false,
    "pycharm": {
     "name": "#%%\n"
    }
   }
  },
  {
   "cell_type": "markdown",
   "source": [
    "Now `subvillage` (Geographic location)\n",
    "\n",
    "References:\n",
    "1. https://github.com/drivendataorg/pump-it-up/blob/master/kamchatang/Water%20Pump%201%20-%20EDA%20and%20Data%20Cleaning.ipynb\n",
    "2. https://stackoverflow.com/a/58434981/10582056\n",
    "3. https://github.com/sagol/pumpitup/blob/main/oof_model.ipynb"
   ],
   "metadata": {
    "collapsed": false,
    "pycharm": {
     "name": "#%% md\n"
    }
   }
  },
  {
   "cell_type": "code",
   "execution_count": 638,
   "outputs": [
    {
     "data": {
      "text/plain": "Madukani        0.9%\nShuleni         0.9%\nMajengo         0.8%\nKati            0.6%\nmissing         0.6%\n                ... \nKipompo         0.0%\nChanyamilima    0.0%\nIkalime         0.0%\nKemagaka        0.0%\nKikatanyemba    0.0%\nName: subvillage, Length: 19288, dtype: object"
     },
     "execution_count": 638,
     "metadata": {},
     "output_type": "execute_result"
    }
   ],
   "source": [
    "visual[\"subvillage\"].fillna(\"missing\", inplace=True)\n",
    "visual[\"subvillage\"].value_counts(normalize=True).mul(100).round(1).astype(str) + '%'"
   ],
   "metadata": {
    "collapsed": false,
    "pycharm": {
     "name": "#%%\n"
    }
   }
  },
  {
   "cell_type": "markdown",
   "source": [
    "Same as above. Hence this column can be dropped"
   ],
   "metadata": {
    "collapsed": false,
    "pycharm": {
     "name": "#%% md\n"
    }
   }
  },
  {
   "cell_type": "code",
   "execution_count": 639,
   "outputs": [],
   "source": [
    "for df in together:\n",
    "    df.drop(\"subvillage\", axis=1, inplace=True)"
   ],
   "metadata": {
    "collapsed": false,
    "pycharm": {
     "name": "#%%\n"
    }
   }
  },
  {
   "cell_type": "markdown",
   "source": [
    "Now `scheme_name`"
   ],
   "metadata": {
    "collapsed": false,
    "pycharm": {
     "name": "#%% md\n"
    }
   }
  },
  {
   "cell_type": "code",
   "execution_count": 640,
   "outputs": [
    {
     "data": {
      "text/plain": "missing                    47.4%\nK                           1.1%\nNone                        1.1%\nBorehole                    0.9%\nChalinze wate               0.7%\n                           ...  \nVisiga water supplly        0.0%\nEmanyata pipelines          0.0%\nMagundi water supply        0.0%\nImalampaka water supply     0.0%\nMtawanya                    0.0%\nName: scheme_name, Length: 2697, dtype: object"
     },
     "execution_count": 640,
     "metadata": {},
     "output_type": "execute_result"
    }
   ],
   "source": [
    "visual[\"scheme_name\"].fillna(\"missing\", inplace=True)\n",
    "visual[\"scheme_name\"].value_counts(normalize=True).mul(100).round(1).astype(str) + '%'"
   ],
   "metadata": {
    "collapsed": false,
    "pycharm": {
     "name": "#%%\n"
    }
   }
  },
  {
   "cell_type": "markdown",
   "source": [
    "1. About half of the names are missing\n",
    "1. In rest of them, majority are without names.\n",
    "2. No significantly dominating scheme name is there\n",
    "\n",
    "Hence this column can be dropped"
   ],
   "metadata": {
    "collapsed": false
   }
  },
  {
   "cell_type": "code",
   "execution_count": 641,
   "outputs": [],
   "source": [
    "for df in together:\n",
    "    df.drop(\"scheme_name\", axis=1, inplace=True)"
   ],
   "metadata": {
    "collapsed": false,
    "pycharm": {
     "name": "#%%\n"
    }
   }
  },
  {
   "cell_type": "markdown",
   "source": [
    "The `installer` values can be grouped together\n",
    "\n",
    "Reference:\n",
    "\n",
    "1. https://github.com/sagol/pumpitup/blob/main/oof_model.ipynb\n",
    "2. https://github.com/drivendataorg/pump-it-up/blob/master/kamchatang/Water%20Pump%201%20-%20EDA%20and%20Data%20Cleaning.ipynb\n",
    "3. https://stackoverflow.com/a/58434981/10582056"
   ],
   "metadata": {
    "collapsed": false,
    "pycharm": {
     "name": "#%% md\n"
    }
   }
  },
  {
   "cell_type": "code",
   "execution_count": 642,
   "metadata": {
    "pycharm": {
     "name": "#%%\n"
    }
   },
   "outputs": [],
   "source": [
    "for df in together:\n",
    "    df['installer'] = df['installer'].astype(str).str.lower()\n",
    "\n",
    "    df['installer'].replace(\n",
    "        to_replace=('fini water', 'fin water', 'finn water', 'finwater', 'finwate'),\n",
    "        value='finw', inplace=True)\n",
    "\n",
    "    df['installer'].replace(to_replace='jaica co', value='jaica', inplace=True)\n",
    "\n",
    "    df['installer'].replace(\n",
    "        to_replace=(\n",
    "            'district water department', 'district water depar', 'district council',\n",
    "            'district counci', 'village council orpha','kibaha town council',\n",
    "            'village council', 'coun', 'village counil', 'council',\n",
    "            'mbulu district council', 'counc', 'village council .oda',\n",
    "            'sangea district coun', 'songea district coun', 'villege council',\n",
    "            'district  council', 'quick win project /council', 'mbozi district council',\n",
    "            'village  council', 'municipal council', 'tabora municipal council',\n",
    "            'wb / district council'),\n",
    "        value='council', inplace=True)\n",
    "\n",
    "    df['installer'].replace(\n",
    "        to_replace=(\n",
    "            'rc church', 'rc churc', 'rcchurch/cefa', 'irc', 'rc', 'rc ch', 'hw/rc',\n",
    "            'rc church/central gover', 'kkkt church', 'pentecost church', 'roman church',\n",
    "            'rc/mission', 'rc church/cefa', 'lutheran church', 'tag church',\n",
    "            'free pentecoste church of tanz', 'rc c', 'church', 'rc cathoric',\n",
    "            'morovian church', 'cefa/rc church', 'rc mission', 'anglican church',\n",
    "            'church of disciples', 'anglikana church', 'cetral government /rc',\n",
    "            'pentecostal church', 'cg/rc', 'rc missionary', 'sda church', 'methodist church', 'trc',\n",
    "            'rc msufi', 'haidomu lutheran church', 'baptist church', 'rc church brother',\n",
    "            'st magreth church', 'anglica church', 'global resource co', 'rc mi',\n",
    "            'baptist church of tanzania', 'fpct church', 'rc njoro', 'rc .church',\n",
    "            'rc mis', 'batist church', 'churc', 'dwe/anglican church','missi', 'mission',\n",
    "            'ndanda missions', 'rc/mission', 'cvs miss', 'missionaries', 'hydom luthelani',\n",
    "            'luthe', 'haydom lutheran hospital', 'lutheran', 'missio', 'germany missionary',\n",
    "            'grail mission kiseki bar', 'missionary', 'heri mission', 'german missionsry',\n",
    "            'wamissionari wa kikatoriki', 'neemia mission', 'wamisionari wa kikatoriki'),\n",
    "        value='church', inplace=True)\n",
    "\n",
    "    df['installer'].replace(\n",
    "        to_replace=(\n",
    "            'central government', 'gove', 'central govt', 'gover', 'cipro/government',\n",
    "            'governme', 'adra /government', 'isf/government', 'adra/government',\n",
    "            'government /tcrs', 'village govt', 'government', 'government /community',\n",
    "            'concern /government', 'goverm', 'village government', 'cental government',\n",
    "            'govern', 'cebtral government', 'government /sda', 'tcrs /government',\n",
    "            'tanzania government', 'centra govt', 'colonial government', 'misri government',\n",
    "            'government and community', 'cetral government /rc', 'concern/government',\n",
    "            'government of misri', 'lwi &central government', 'governmen', 'government/tcrs', 'government /world vision',\n",
    "            'centra government'),\n",
    "        value='tanzanian government', inplace=True)\n",
    "\n",
    "    df['installer'].replace(\n",
    "        to_replace=('world vission', 'world division', 'word divisio','world visiin'),\n",
    "        value='world vision', inplace=True)\n",
    "\n",
    "    df['installer'].replace(to_replace=('unicrf', 'unisef'), value='unicef', inplace=True)\n",
    "\n",
    "    df['installer'].replace(\n",
    "        to_replace=(\n",
    "            'commu', 'olgilai village community', 'adra /community', 'adra/community',\n",
    "            'rwe/ community', 'killflora /community', 'communit', 'taboma/community',\n",
    "            'arab community', 'adra/ community', 'sekei village community', 'rwe/community',\n",
    "            'arabs community', 'village community', 'government /community',\n",
    "            'dads/village community', 'killflora/ community', 'mtuwasa and community',\n",
    "            'rwe /community', 'ilwilo community', 'summit for water/community',\n",
    "            'igolola community', 'ngiresi village community', 'rwe community',\n",
    "            'african realief committe of ku', 'twesa /community', 'shelisheli commission',\n",
    "            'twesa/ community', 'marumbo community', 'government and community',\n",
    "            'community bank', 'kitiangare village community', 'oldadai village community',\n",
    "            'twesa/community', 'tlc/community', 'maseka community', 'islamic community',\n",
    "            'district community j', 'village water commission', 'village community members',\n",
    "            'tcrs/village community', 'village water committee', 'comunity'),\n",
    "        value='community', inplace=True)\n",
    "\n",
    "    df['installer'].replace(\n",
    "        to_replace=('danid', 'danda','danida co', 'danny', 'daniad', 'dannida', 'danids'),\n",
    "        value='danida', inplace=True)\n",
    "\n",
    "    df['installer'].replace(\n",
    "        to_replace=('hesaws', 'huches', 'hesaw', 'hesawz', 'hesawq', 'hesewa'),\n",
    "        value='hesawa', inplace=True)\n",
    "\n",
    "    df['installer'].replace(\n",
    "        to_replace=(\n",
    "            'dwsp', 'kkkt _ konde and dwe', 'rwe/dwe', 'rwedwe', 'dwe/', 'dw', 'dwr',\n",
    "            'dwe}', 'dwt', 'dwe /tassaf', 'dwe/ubalozi wa marekani', 'consultant and dwe',\n",
    "            'dwe & lwi', 'ubalozi wa marekani /dwe', 'dwe&', 'dwe/tassaf', 'dw$',\n",
    "            'dw e', 'tcrs/dwe', 'dw#', 'dweb', 'tcrs /dwe', 'water aid/dwe', 'dww'),\n",
    "        value='dwe', inplace=True)\n",
    "\n",
    "    df['installer'].replace(\n",
    "        to_replace=(\n",
    "            'africa muslim', 'muslimu society(shia)', 'africa muslim agenc',\n",
    "            'african muslims age', 'muslimehefen international','islamic',\n",
    "            'the isla', 'islamic agency tanzania',  'islam', 'nyabibuye islamic center'),\n",
    "        value='muslims', inplace=True)\n",
    "\n",
    "    df['installer'].replace(\n",
    "        to_replace=(\n",
    "            'british colonial government', 'british government', 'britain'),\n",
    "        value='british', inplace=True)\n",
    "\n",
    "    df['installer'].replace(\n",
    "        to_replace=(\n",
    "            'tcrs/tlc', 'tcrs /care', 'cipro/care/tcrs', 'tcrs kibondo', 'tcrs.tlc',\n",
    "            'tcrs /twesa', 'tassaf /tcrs', 'tcrs/care', 'tcrs twesa', 'rwe/tcrs',\n",
    "            'tcrs/twesa', 'tassaf/ tcrs', 'tcrs/ tassaf', 'tcrs/ twesa', 'tcrs a',\n",
    "            'tassaf/tcrs'),\n",
    "        value='tcrs', inplace=True)\n",
    "\n",
    "    df['installer'].replace(\n",
    "        to_replace=(\n",
    "            'kkkt-dioces ya pare', 'kkkt leguruki', 'kkkt ndrumangeni', 'kkkt dme',\n",
    "            'kkkt kilinga', 'kkkt canal', 'kkkt katiti juu', 'kkkt mareu'),\n",
    "        value='kkkt', inplace=True)\n",
    "\n",
    "    df['installer'].replace(to_replace=('norad/'), value='norad', inplace=True)\n",
    "\n",
    "    df['installer'].replace( to_replace=('tasaf/dmdd', 'dmdd/solider'),value='dmdd', inplace=True)\n",
    "\n",
    "    df['installer'].replace(to_replace=('cjejow construction', 'cjej0'), value='cjejow', inplace=True)\n",
    "\n",
    "    df['installer'].replace(\n",
    "        to_replace=('china henan constuction', 'china henan contractor', 'china co.', 'chinese'),\n",
    "        value='china', inplace=True)\n",
    "\n",
    "    df['installer'].replace(\n",
    "        to_replace=(\n",
    "            'local contract', 'local technician', 'local', 'local  technician',\n",
    "            'locall technician', 'local te', 'local technitian', 'local technical tec',\n",
    "            'local fundi', 'local technical', 'localtechnician', 'village local contractor',\n",
    "            'local l technician'),\n",
    "        value='local', inplace=True)\n",
    "\n",
    "    df['installer'].replace(\n",
    "        to_replace=(\n",
    "            'oikos e .africa', 'oikos e.africa', 'africa amini alama',\n",
    "            'africa islamic agency tanzania', 'africare', 'african development foundation',\n",
    "            'oikos e. africa', 'oikos e.afrika', 'afroz ismail', 'africa', 'farm-africa',\n",
    "            'oikos e africa', 'farm africa', 'africaone', 'tina/africare', 'africaone ltd',\n",
    "            'african reflections foundation', 'africa m'),\n",
    "        value='africa', inplace=True)\n",
    "\n",
    "    df['installer'].replace(to_replace=('h', 'he', 'hsw'), value='hsw', inplace=True)\n",
    "\n",
    "    df['installer'].replace(to_replace=('jaica', 'jica'), value='jaica', inplace=True)\n",
    "\n",
    "    df['installer'].replace(to_replace=('lawatefuka water sup', 'losaa-kia water supp'), value='water sup', inplace=True)\n",
    "\n",
    "    df['installer'].replace(to_replace=('water', 'water aid', 'water board'), value='water', inplace=True)\n",
    "\n",
    "    df['installer'].replace(to_replace=('region water department', 'sengerema water department'), value='department', inplace=True)\n",
    "\n",
    "    df['installer'].replace(to_replace=('oxfam', 'oxfarm'), value='oxfarm', inplace=True)\n",
    "\n",
    "    df['installer'].replace(to_replace=('priva', 'private'), value='private', inplace=True)\n",
    "\n",
    "    df['installer'].replace(to_replace=('twe', 'twesa'), value='twesa', inplace=True)\n",
    "\n",
    "    df['installer'].replace(to_replace=('villa', 'villagers'), value='villagers', inplace=True)\n",
    "\n",
    "    df['installer'].replace(to_replace=('wa', 'wachina', 'wananchi'), value='wa', inplace=True)\n",
    "\n",
    "    df['installer'].replace(to_replace=('0', 'nan', '-', '_'), value='missing', inplace=True)\n",
    "\n",
    "    df_installer_cnt = df.groupby('installer')['installer'].count()\n",
    "    other_list = df_installer_cnt[df_installer_cnt<71].index.tolist()\n",
    "    df['installer'].replace(to_replace=other_list, value='other', inplace=True)"
   ]
  },
  {
   "cell_type": "code",
   "execution_count": 643,
   "outputs": [
    {
     "data": {
      "text/plain": "dwe                              30.5%\nother                            14.2%\nmissing                           7.5%\ntanzanian government              6.2%\ncommunity                         3.3%\ndanida                            2.8%\nhesawa                            2.4%\ncouncil                           2.3%\nrwe                               2.0%\nchurch                            1.6%\nkkkt                              1.6%\nfinw                              1.3%\ntcrs                              1.2%\nworld vision                      1.2%\nces                               1.0%\namref                             0.7%\ntwesa                             0.7%\nlga                               0.7%\ntasaf                             0.7%\nwedeco                            0.7%\ndmdd                              0.7%\njaica                             0.6%\nnorad                             0.6%\nunicef                            0.6%\noxfarm                            0.6%\nhsw                               0.5%\nda                                0.5%\nwater                             0.5%\nwu                                0.5%\ndepartment                        0.5%\nvillagers                         0.5%\nwa                                0.5%\nacra                              0.5%\nsema                              0.4%\nwater sup                         0.4%\nshipo                             0.4%\nlocal                             0.4%\nidara ya maji                     0.4%\nprivate                           0.4%\nkiliwater                         0.4%\ndh                                0.3%\nkuwait                            0.3%\ndistri                            0.3%\nmagadini-makiwaru wa              0.3%\nfw                                0.3%\ncentr                             0.3%\nwvt                               0.3%\nmwe                               0.3%\nis                                0.3%\nhandeni trunk main(               0.3%\nworld bank                        0.3%\nrwssp                             0.3%\nisf                               0.2%\nadra                              0.2%\nartisan                           0.2%\nddca                              0.2%\nworld                             0.2%\nafrica                            0.2%\ntardo                             0.2%\nir                                0.2%\nconsulting engineer               0.2%\nmuwsa                             0.2%\nded                               0.2%\nwizara ya maji                    0.2%\nhalmashauri ya wilaya sikonge     0.2%\ngo                                0.2%\nki                                0.2%\nangli                             0.2%\nroman                             0.2%\nvwc                               0.2%\ncefa                              0.2%\naict                              0.1%\nmdrdp                             0.1%\nchamavita                         0.1%\nlwi                               0.1%\nName: installer, dtype: object"
     },
     "execution_count": 643,
     "metadata": {},
     "output_type": "execute_result"
    }
   ],
   "source": [
    "visual[\"installer\"].fillna(\"missing\", inplace=True)\n",
    "visual[\"installer\"].value_counts(normalize=True).mul(100).round(1).astype(str) + '%'"
   ],
   "metadata": {
    "collapsed": false,
    "pycharm": {
     "name": "#%%\n"
    }
   }
  },
  {
   "cell_type": "markdown",
   "source": [
    "From the result, it can be seen that following values dominate\n",
    "1. dwe\n",
    "2. other\n",
    "3. tanzanian government\n",
    "4. community\n",
    "5. danida\n",
    "6. hesawa\n",
    "7. council\n",
    "8. rwe\n",
    "9. church\n",
    "10. kkkt\n",
    "\n",
    "There is also significant amount of `missing`: 7.5 %\n",
    "\n",
    "So now reduce the total categories to these 11 values."
   ],
   "metadata": {
    "collapsed": false,
    "pycharm": {
     "name": "#%% md\n"
    }
   }
  },
  {
   "cell_type": "code",
   "execution_count": 644,
   "outputs": [],
   "source": [
    "selected = ['dwe', 'tanzanian government', 'community', 'danida', 'hesawa', 'council', 'rwe', 'church', 'kkkt', 'missing']\n",
    "\n",
    "def truncate(row):\n",
    "    if row not in selected:\n",
    "        return \"other\"\n",
    "\n",
    "for df in together:\n",
    "    df[\"installer\"] = df.apply(lambda row: \"other\" if row[\"installer\"] not in selected else row[\"installer\"], axis=1)\n",
    "\n",
    "# apply impute missing values\n",
    "selected.remove(\"missing\")\n",
    "\n",
    "for df in together:\n",
    "    df[\"installer\"].replace(to_replace=\"missing\", value=np.nan, inplace=True)\n",
    "    df = replace_cat_list(df,'installer', selected)"
   ],
   "metadata": {
    "collapsed": false,
    "pycharm": {
     "name": "#%%\n"
    }
   }
  },
  {
   "cell_type": "code",
   "execution_count": 645,
   "outputs": [
    {
     "data": {
      "text/plain": "                                              status_group_codes\ninstaller            status_group                               \nchurch               functional                              670\n                     functional needs repair                  66\n                     non functional                          227\ncommunity            functional                             1291\n                     functional needs repair                  94\n                     non functional                          591\ncouncil              functional                              543\n                     functional needs repair                  93\n                     non functional                          726\ndanida               functional                             1041\n                     functional needs repair                  95\n                     non functional                          545\ndwe                  functional                            11906\n                     functional needs repair                1987\n                     non functional                         7961\nhesawa               functional                              792\n                     functional needs repair                  54\n                     non functional                          557\nkkkt                 functional                              807\n                     functional needs repair                 149\n                     non functional                          669\nother                functional                            13638\n                     functional needs repair                1318\n                     non functional                         8673\nrwe                  functional                              304\n                     functional needs repair                 137\n                     non functional                          765\ntanzanian government functional                             1267\n                     functional needs repair                 324\n                     non functional                         2110",
      "text/html": "<div>\n<style scoped>\n    .dataframe tbody tr th:only-of-type {\n        vertical-align: middle;\n    }\n\n    .dataframe tbody tr th {\n        vertical-align: top;\n    }\n\n    .dataframe thead th {\n        text-align: right;\n    }\n</style>\n<table border=\"1\" class=\"dataframe\">\n  <thead>\n    <tr style=\"text-align: right;\">\n      <th></th>\n      <th></th>\n      <th>status_group_codes</th>\n    </tr>\n    <tr>\n      <th>installer</th>\n      <th>status_group</th>\n      <th></th>\n    </tr>\n  </thead>\n  <tbody>\n    <tr>\n      <th rowspan=\"3\" valign=\"top\">church</th>\n      <th>functional</th>\n      <td>670</td>\n    </tr>\n    <tr>\n      <th>functional needs repair</th>\n      <td>66</td>\n    </tr>\n    <tr>\n      <th>non functional</th>\n      <td>227</td>\n    </tr>\n    <tr>\n      <th rowspan=\"3\" valign=\"top\">community</th>\n      <th>functional</th>\n      <td>1291</td>\n    </tr>\n    <tr>\n      <th>functional needs repair</th>\n      <td>94</td>\n    </tr>\n    <tr>\n      <th>non functional</th>\n      <td>591</td>\n    </tr>\n    <tr>\n      <th rowspan=\"3\" valign=\"top\">council</th>\n      <th>functional</th>\n      <td>543</td>\n    </tr>\n    <tr>\n      <th>functional needs repair</th>\n      <td>93</td>\n    </tr>\n    <tr>\n      <th>non functional</th>\n      <td>726</td>\n    </tr>\n    <tr>\n      <th rowspan=\"3\" valign=\"top\">danida</th>\n      <th>functional</th>\n      <td>1041</td>\n    </tr>\n    <tr>\n      <th>functional needs repair</th>\n      <td>95</td>\n    </tr>\n    <tr>\n      <th>non functional</th>\n      <td>545</td>\n    </tr>\n    <tr>\n      <th rowspan=\"3\" valign=\"top\">dwe</th>\n      <th>functional</th>\n      <td>11906</td>\n    </tr>\n    <tr>\n      <th>functional needs repair</th>\n      <td>1987</td>\n    </tr>\n    <tr>\n      <th>non functional</th>\n      <td>7961</td>\n    </tr>\n    <tr>\n      <th rowspan=\"3\" valign=\"top\">hesawa</th>\n      <th>functional</th>\n      <td>792</td>\n    </tr>\n    <tr>\n      <th>functional needs repair</th>\n      <td>54</td>\n    </tr>\n    <tr>\n      <th>non functional</th>\n      <td>557</td>\n    </tr>\n    <tr>\n      <th rowspan=\"3\" valign=\"top\">kkkt</th>\n      <th>functional</th>\n      <td>807</td>\n    </tr>\n    <tr>\n      <th>functional needs repair</th>\n      <td>149</td>\n    </tr>\n    <tr>\n      <th>non functional</th>\n      <td>669</td>\n    </tr>\n    <tr>\n      <th rowspan=\"3\" valign=\"top\">other</th>\n      <th>functional</th>\n      <td>13638</td>\n    </tr>\n    <tr>\n      <th>functional needs repair</th>\n      <td>1318</td>\n    </tr>\n    <tr>\n      <th>non functional</th>\n      <td>8673</td>\n    </tr>\n    <tr>\n      <th rowspan=\"3\" valign=\"top\">rwe</th>\n      <th>functional</th>\n      <td>304</td>\n    </tr>\n    <tr>\n      <th>functional needs repair</th>\n      <td>137</td>\n    </tr>\n    <tr>\n      <th>non functional</th>\n      <td>765</td>\n    </tr>\n    <tr>\n      <th rowspan=\"3\" valign=\"top\">tanzanian government</th>\n      <th>functional</th>\n      <td>1267</td>\n    </tr>\n    <tr>\n      <th>functional needs repair</th>\n      <td>324</td>\n    </tr>\n    <tr>\n      <th>non functional</th>\n      <td>2110</td>\n    </tr>\n  </tbody>\n</table>\n</div>"
     },
     "execution_count": 645,
     "metadata": {},
     "output_type": "execute_result"
    }
   ],
   "source": [
    "piv_table = pd.pivot_table(visual,index=['installer','status_group'], values='status_group_codes', aggfunc='count')\n",
    "piv_table"
   ],
   "metadata": {
    "collapsed": false,
    "pycharm": {
     "name": "#%%\n"
    }
   }
  },
  {
   "cell_type": "markdown",
   "source": [
    "There is a clear distinction between values in `installer` and result\n",
    "\n",
    "Next is `ward`(Geographic location)`"
   ],
   "metadata": {
    "collapsed": false,
    "pycharm": {
     "name": "#%% md\n"
    }
   }
  },
  {
   "cell_type": "code",
   "execution_count": 646,
   "outputs": [],
   "source": [
    "visual[\"ward\"].fillna(\"missing\", inplace=True)\n",
    "visual[\"ward\"].value_counts(normalize=True).mul(100).round(1).astype(str) + '%'\n",
    "\n",
    "# `ward` has no significant values. Hence this column can be dropped\n",
    "\n",
    "for df in together:\n",
    "    df.drop(\"ward\", axis=1, inplace=True)"
   ],
   "metadata": {
    "collapsed": false,
    "pycharm": {
     "name": "#%%\n"
    }
   }
  },
  {
   "cell_type": "markdown",
   "source": [
    "The `funder` values can be grouped together\n",
    "\n",
    "Reference:\n",
    "1. https://github.com/sagol/pumpitup/blob/main/oof_model.ipynb\n",
    "2. https://github.com/drivendataorg/pump-it-up/blob/master/kamchatang/Water%20Pump%201%20-%20EDA%20and%20Data%20Cleaning.ipynb\n",
    "3. https://stackoverflow.com/a/58434981/10582056"
   ],
   "metadata": {
    "collapsed": false,
    "pycharm": {
     "name": "#%% md\n"
    }
   }
  },
  {
   "cell_type": "code",
   "execution_count": 647,
   "metadata": {
    "pycharm": {
     "name": "#%%\n"
    }
   },
   "outputs": [],
   "source": [
    "for df in together:\n",
    "    df['funder'] = df['funder'].astype(str).str.lower()\n",
    "\n",
    "    df['funder'].replace(\n",
    "        to_replace=(\n",
    "            'kkkt_makwale', 'kkkt-dioces ya pare', 'world vision/ kkkt', 'kkkt church',\n",
    "            'kkkt leguruki', 'kkkt ndrumangeni', 'kkkt dme', 'kkkt canal', 'kkkt usa',\n",
    "            'kkkt mareu'),\n",
    "        value='kkkt', inplace=True)\n",
    "\n",
    "    df['funder'].replace(\n",
    "        to_replace=(\n",
    "            'government of tanzania', 'norad /government', 'government/ community',\n",
    "            'cipro/government', 'isf/government', 'finidagermantanzania govt',\n",
    "            'government /tassaf', 'finida german tanzania govt', 'village government',\n",
    "            'tcrs /government', 'village govt', 'government/ world bank',\n",
    "            'danida /government', 'dhv/gove', 'concern /govern', 'vgovernment',\n",
    "            'lwi & central government', 'government /sda', 'koica and tanzania government',\n",
    "            'world bank/government', 'colonial government', 'misri government',\n",
    "            'government and community', 'concern/governm', 'government of misri',\n",
    "            'government/tassaf', 'government/school', 'government/tcrs', 'unhcr/government',\n",
    "            'government /world vision', 'norad/government', 'ministry of water'),\n",
    "        value='government', inplace=True)\n",
    "\n",
    "    df['funder'].replace(\n",
    "        to_replace=(\n",
    "            'british colonial government', 'japan government', 'china government',\n",
    "            'finland government', 'belgian government', 'italy government',\n",
    "            'irish government', 'egypt government', 'iran gover', 'swedish', 'finland'),\n",
    "        value='foreign government', inplace=True)\n",
    "\n",
    "    df['funder'].replace(\n",
    "        to_replace=(\n",
    "            'rc church', 'anglican church', 'rc churc', 'rc ch', 'rcchurch/cefa',\n",
    "            'irc', 'rc', 'churc', 'hw/rc', 'rc church/centr', 'pentecosta church',\n",
    "            'roman church', 'rc/mission', \"ju-sarang church' and bugango\",\n",
    "            'lutheran church', 'roman cathoric church', 'tag church ub', 'aic church',\n",
    "            'free pentecoste church of tanz', 'tag church', 'fpct church', 'rc cathoric',\n",
    "            'baptist church', 'morovian church', 'cefa/rcchurch', 'rc mission',\n",
    "            'bukwang church saints', 'agt church', 'church of disciples', 'rc mofu',\n",
    "            \"gil cafe'church'\", 'pentecostal church', 'bukwang church saint',\n",
    "            'eung am methodist church', 'rc/dwe', 'cg/rc', 'eung-am methodist church',\n",
    "            'rc missionary', 'sda church', 'methodist church', 'rc msufi',\n",
    "            'haidomu lutheran church', 'nazareth church', 'st magreth church',\n",
    "            'agape churc', 'rc missi', 'rc mi', 'rc njoro', 'world vision/rc church',\n",
    "            'pag church', 'batist church', 'full gospel church', 'nazalet church',\n",
    "            'dwe/anglican church', 'missi', 'mission', 'missionaries', 'cpps mission',\n",
    "            'cvs miss', 'grail mission kiseki bar', 'shelisheli commission', 'missionary',\n",
    "            'heri mission', 'german missionary', 'wamissionari wa kikatoriki',\n",
    "            'rc missionary', 'germany missionary', 'missio', 'neemia mission', 'rc missi',\n",
    "            'hydom luthelani', 'luthe', 'lutheran church',  'haydom lutheran hospital',\n",
    "            'village council/ haydom luther', 'lutheran', 'haidomu lutheran church',\n",
    "            'resolute golden pride project', 'resolute mininggolden pride',\n",
    "            'germany cristians'),\n",
    "        value='church', inplace=True)\n",
    "\n",
    "    df['funder'].replace(\n",
    "        to_replace=(\n",
    "            'olgilai village community', 'commu', 'community', 'arab community',\n",
    "            'sekei village community', 'arabs community', 'village community',\n",
    "            'mtuwasa and community', 'ilwilo community', 'igolola community',\n",
    "            'ngiresi village community', 'marumbo community', 'village communi',\n",
    "            'comune di roma', 'comunity construction fund', 'community bank',\n",
    "            \"oak'zion' and bugango b' commu\", 'kitiangare village community',\n",
    "            'oldadai village community', 'tlc/community', 'maseka community',\n",
    "            'islamic community',  'tcrs/village community', 'buluga subvillage community',\n",
    "            'okutu village community', 'rural water supply and sanitat'),\n",
    "        value='community', inplace=True)\n",
    "\n",
    "    df['funder'].replace(\n",
    "        to_replace=(\n",
    "            'council', 'wb / district council', 'cdtfdistrict council',\n",
    "            'sangea district council', 'mheza distric counc', 'kyela council',\n",
    "            'kibaha town council', 'swidish', 'mbozi district council',\n",
    "            'village council/ rose kawala',  'songea municipal counci',\n",
    "            'quick win project /council', 'village council', 'villege council',\n",
    "            'tabora municipal council', 'kilindi district co', 'kigoma municipal council',\n",
    "            'district council', 'municipal council', 'district medical',\n",
    "            'sengerema district council', 'town council', 'mkinga  distric cou',\n",
    "            'songea district council', 'district rural project', 'mkinga distric coun',\n",
    "            'dadis'),\n",
    "        value='district', inplace=True)\n",
    "\n",
    "    df['funder'].replace(\n",
    "        to_replace=(\n",
    "            'tcrs.tlc', 'tcrs /care', 'tcrst', 'cipro/care/tcrs', 'tcrs/care', 'tcrs kibondo'),\n",
    "        value='tcrs', inplace=True)\n",
    "\n",
    "    df['funder'].replace(\n",
    "        to_replace=(\n",
    "            'fini water', 'finw', 'fin water', 'finn water', 'finwater'),\n",
    "        value='fini', inplace=True)\n",
    "\n",
    "    df['funder'].replace(\n",
    "        to_replace=(\n",
    "            'islamic', 'the isla', 'islamic found', 'islamic agency tanzania',\n",
    "            'islam', 'muislam', 'the islamic', 'nyabibuye islamic center', 'islamic society', 'african muslim agency',\n",
    "            'muslims', 'answeer muslim grou', 'muslimu society(shia)',\n",
    "            'unicef/african muslim agency', 'muslim world', 'muslimehefen international',\n",
    "            'shear muslim', 'muslim society'),\n",
    "        value='islam', inplace=True)\n",
    "\n",
    "    df['funder'].replace(\n",
    "        to_replace=('danida', 'ms-danish', 'unhcr/danida', 'tassaf/ danida'),\n",
    "        value='danida', inplace=True)\n",
    "\n",
    "    df['funder'].replace(\n",
    "        to_replace=(\n",
    "            'hesawa', 'hesawz', 'hesaw', 'hhesawa', 'hesawwa', 'hesawza', 'hesswa',\n",
    "            'hesawa and concern world wide'),\n",
    "        value='hesawa', inplace=True)\n",
    "\n",
    "    df['funder'].replace(\n",
    "        to_replace=('world vision/adra', 'game division', 'worldvision'),\n",
    "        value='world vision', inplace=True)\n",
    "\n",
    "    df['funder'].replace(\n",
    "        to_replace=(\n",
    "            'germany republi', 'a/co germany', 'aco/germany', 'bingo foundation germany',\n",
    "            'africa project ev germany', 'tree ways german'),\n",
    "        value='germany', inplace=True)\n",
    "\n",
    "    df['funder'].replace( to_replace=('private', 'private individual'), value='private', inplace=True)\n",
    "\n",
    "    df['funder'].replace(to_replace=('ces (gmbh)', 'ces(gmbh)'), value='ces', inplace=True)\n",
    "\n",
    "    df['funder'].replace(to_replace=('concern', 'concern world wide'), value='concern', inplace=True)\n",
    "\n",
    "    df['funder'].replace(to_replace=('jaica', 'jica'), value='concern', inplace=True)\n",
    "\n",
    "    df['funder'].replace(to_replace=('jaica', 'jica'), value='concern', inplace=True)\n",
    "\n",
    "    df['funder'].replace(to_replace=('lawatefuka water supply', 'magadini-makiwaru water', 'water', 'wateraid'), value='concern', inplace=True)\n",
    "\n",
    "    df['funder'].replace(to_replace=('oxfam', 'oxfarm'), value='oxfarm', inplace=True)\n",
    "\n",
    "    df['funder'].replace(to_replace=('0', 'nan', '-', '_'), value='missing', inplace=True)\n",
    "    df_funder_cnt = df.groupby('funder')['funder'].count()\n",
    "    other_list = df_funder_cnt[df_funder_cnt < 98].index.tolist()\n",
    "    df['funder'].replace(to_replace=other_list, value='other', inplace=True)"
   ]
  },
  {
   "cell_type": "code",
   "execution_count": 648,
   "outputs": [
    {
     "data": {
      "text/plain": "other                            17.8%\ngovernment                       16.7%\nmissing                           7.4%\ndanida                            5.3%\nhesawa                            3.7%\nconcern                           3.5%\nkkkt                              2.6%\ndistrict                          2.5%\nchurch                            2.5%\nrwssp                             2.3%\nworld bank                        2.3%\nworld vision                      2.1%\nprivate                           1.9%\nunicef                            1.8%\ntasaf                             1.5%\ndhv                               1.4%\ndwsp                              1.4%\nnorad                             1.3%\nfini                              1.3%\ngermany                           1.2%\ntcrs                              1.0%\ncommunity                         0.9%\noxfarm                            0.9%\ndwe                               0.8%\nnetherlands                       0.8%\nhifab                             0.8%\nadb                               0.8%\nlga                               0.7%\namref                             0.7%\nces                               0.7%\nisf                               0.5%\nrudep                             0.5%\nroman                             0.5%\nadra                              0.4%\nshipo                             0.4%\nforeign government                0.4%\nwsdp                              0.4%\ndh                                0.4%\nded                               0.3%\nplan int                          0.3%\nkiliwater                         0.3%\ndmdd                              0.3%\ngo                                0.3%\nfw                                0.3%\nw.b                               0.3%\nwvt                               0.3%\noikos e.afrika                    0.3%\nnethalan                          0.3%\nlvia                              0.2%\nunhcr                             0.2%\nno                                0.2%\nafrican                           0.2%\nis                                0.2%\nhe                                0.2%\nki                                0.2%\ntardo                             0.2%\nir                                0.2%\nwananchi                          0.2%\nsnv                               0.2%\nroman catholic                    0.2%\nwua                               0.2%\nunice                             0.2%\nbsf                               0.2%\ntassaf                            0.2%\nislam                             0.2%\nco                                0.2%\ndfid                              0.2%\nlamp                              0.2%\nmuwsa                             0.2%\nvillagers                         0.2%\nru                                0.2%\nhalmashauri ya wilaya sikonge     0.2%\nhsw                               0.2%\nName: funder, dtype: object"
     },
     "execution_count": 648,
     "metadata": {},
     "output_type": "execute_result"
    }
   ],
   "source": [
    "visual[\"funder\"].fillna(\"missing\", inplace=True)\n",
    "visual[\"funder\"].value_counts(normalize=True).mul(100).round(1).astype(str) + '%'"
   ],
   "metadata": {
    "collapsed": false,
    "pycharm": {
     "name": "#%%\n"
    }
   }
  },
  {
   "cell_type": "markdown",
   "source": [
    "From the result, it can be seen that following values dominate\n",
    "1. other                            25.2%\n",
    "2. government                       16.7%\n",
    "3. danida                            5.3%\n",
    "4. hesawa                            3.7%\n",
    "5. concern                           3.5%\n",
    "6. kkkt                              2.6%\n",
    "7. district                          2.5%\n",
    "8. church                            2.5%\n",
    "9. rwssp                             2.3%\n",
    "10. world bank                        2.3%\n",
    "11. world vision                      2.1%\n",
    "\n",
    "There is also significant amount of `missing`: 7.4 %\n",
    "\n",
    "So now reduce the total categories to these 11 values."
   ],
   "metadata": {
    "collapsed": false
   }
  },
  {
   "cell_type": "code",
   "execution_count": 649,
   "outputs": [],
   "source": [
    "selected = ['government', 'danida', 'hesawa', 'hesawa', 'concern',\n",
    "            'kkkt', 'district', 'church', 'rwssp', 'world bank',\n",
    "            'world vision', 'missing']\n",
    "\n",
    "def truncate(row):\n",
    "    if row not in selected:\n",
    "        return \"other\"\n",
    "\n",
    "for df in together:\n",
    "    df[\"funder\"] = df.apply(lambda row: \"other\" if row[\"funder\"] not in selected else row[\"funder\"], axis=1)\n",
    "\n",
    "# apply impute missing values\n",
    "selected.remove(\"missing\")\n",
    "\n",
    "for df in together:\n",
    "    df[\"funder\"].replace(to_replace=\"missing\", value=np.nan, inplace=True)\n",
    "    df = replace_cat_list(df,'funder', selected)"
   ],
   "metadata": {
    "collapsed": false,
    "pycharm": {
     "name": "#%%\n"
    }
   }
  },
  {
   "cell_type": "code",
   "execution_count": 650,
   "outputs": [
    {
     "data": {
      "text/plain": "                                      status_group_codes\nfunder       status_group                               \nchurch       functional                             1112\n             functional needs repair                  73\n             non functional                          274\nconcern      functional                             1366\n             functional needs repair                 134\n             non functional                          563\ndanida       functional                             1721\n             functional needs repair                 159\n             non functional                         1242\ndistrict     functional                              805\n             functional needs repair                  63\n             non functional                          620\ngovernment   functional                             6080\n             functional needs repair                1106\n             non functional                         6441\nhesawa       functional                              943\n             functional needs repair                 232\n             non functional                         1042\nkkkt         functional                              871\n             functional needs repair                  82\n             non functional                          593\nother        functional                            16892\n             functional needs repair                2046\n             non functional                        10247\nrwssp        functional                              805\n             functional needs repair                 109\n             non functional                          460\nworld bank   functional                              545\n             functional needs repair                  97\n             non functional                          707\nworld vision functional                             1119\n             functional needs repair                 216\n             non functional                          635",
      "text/html": "<div>\n<style scoped>\n    .dataframe tbody tr th:only-of-type {\n        vertical-align: middle;\n    }\n\n    .dataframe tbody tr th {\n        vertical-align: top;\n    }\n\n    .dataframe thead th {\n        text-align: right;\n    }\n</style>\n<table border=\"1\" class=\"dataframe\">\n  <thead>\n    <tr style=\"text-align: right;\">\n      <th></th>\n      <th></th>\n      <th>status_group_codes</th>\n    </tr>\n    <tr>\n      <th>funder</th>\n      <th>status_group</th>\n      <th></th>\n    </tr>\n  </thead>\n  <tbody>\n    <tr>\n      <th rowspan=\"3\" valign=\"top\">church</th>\n      <th>functional</th>\n      <td>1112</td>\n    </tr>\n    <tr>\n      <th>functional needs repair</th>\n      <td>73</td>\n    </tr>\n    <tr>\n      <th>non functional</th>\n      <td>274</td>\n    </tr>\n    <tr>\n      <th rowspan=\"3\" valign=\"top\">concern</th>\n      <th>functional</th>\n      <td>1366</td>\n    </tr>\n    <tr>\n      <th>functional needs repair</th>\n      <td>134</td>\n    </tr>\n    <tr>\n      <th>non functional</th>\n      <td>563</td>\n    </tr>\n    <tr>\n      <th rowspan=\"3\" valign=\"top\">danida</th>\n      <th>functional</th>\n      <td>1721</td>\n    </tr>\n    <tr>\n      <th>functional needs repair</th>\n      <td>159</td>\n    </tr>\n    <tr>\n      <th>non functional</th>\n      <td>1242</td>\n    </tr>\n    <tr>\n      <th rowspan=\"3\" valign=\"top\">district</th>\n      <th>functional</th>\n      <td>805</td>\n    </tr>\n    <tr>\n      <th>functional needs repair</th>\n      <td>63</td>\n    </tr>\n    <tr>\n      <th>non functional</th>\n      <td>620</td>\n    </tr>\n    <tr>\n      <th rowspan=\"3\" valign=\"top\">government</th>\n      <th>functional</th>\n      <td>6080</td>\n    </tr>\n    <tr>\n      <th>functional needs repair</th>\n      <td>1106</td>\n    </tr>\n    <tr>\n      <th>non functional</th>\n      <td>6441</td>\n    </tr>\n    <tr>\n      <th rowspan=\"3\" valign=\"top\">hesawa</th>\n      <th>functional</th>\n      <td>943</td>\n    </tr>\n    <tr>\n      <th>functional needs repair</th>\n      <td>232</td>\n    </tr>\n    <tr>\n      <th>non functional</th>\n      <td>1042</td>\n    </tr>\n    <tr>\n      <th rowspan=\"3\" valign=\"top\">kkkt</th>\n      <th>functional</th>\n      <td>871</td>\n    </tr>\n    <tr>\n      <th>functional needs repair</th>\n      <td>82</td>\n    </tr>\n    <tr>\n      <th>non functional</th>\n      <td>593</td>\n    </tr>\n    <tr>\n      <th rowspan=\"3\" valign=\"top\">other</th>\n      <th>functional</th>\n      <td>16892</td>\n    </tr>\n    <tr>\n      <th>functional needs repair</th>\n      <td>2046</td>\n    </tr>\n    <tr>\n      <th>non functional</th>\n      <td>10247</td>\n    </tr>\n    <tr>\n      <th rowspan=\"3\" valign=\"top\">rwssp</th>\n      <th>functional</th>\n      <td>805</td>\n    </tr>\n    <tr>\n      <th>functional needs repair</th>\n      <td>109</td>\n    </tr>\n    <tr>\n      <th>non functional</th>\n      <td>460</td>\n    </tr>\n    <tr>\n      <th rowspan=\"3\" valign=\"top\">world bank</th>\n      <th>functional</th>\n      <td>545</td>\n    </tr>\n    <tr>\n      <th>functional needs repair</th>\n      <td>97</td>\n    </tr>\n    <tr>\n      <th>non functional</th>\n      <td>707</td>\n    </tr>\n    <tr>\n      <th rowspan=\"3\" valign=\"top\">world vision</th>\n      <th>functional</th>\n      <td>1119</td>\n    </tr>\n    <tr>\n      <th>functional needs repair</th>\n      <td>216</td>\n    </tr>\n    <tr>\n      <th>non functional</th>\n      <td>635</td>\n    </tr>\n  </tbody>\n</table>\n</div>"
     },
     "execution_count": 650,
     "metadata": {},
     "output_type": "execute_result"
    }
   ],
   "source": [
    "piv_table = pd.pivot_table(visual, index=['funder','status_group'], values='status_group_codes', aggfunc='count')\n",
    "piv_table"
   ],
   "metadata": {
    "collapsed": false,
    "pycharm": {
     "name": "#%%\n"
    }
   }
  },
  {
   "cell_type": "markdown",
   "source": [
    "Next is `date_recorded` (The date the row was entered)\n",
    "\n",
    "The column can be converted to date object. Then `year`\n",
    "can be extracted from it and the `age` of each pump can be calculated"
   ],
   "metadata": {
    "collapsed": false,
    "pycharm": {
     "name": "#%% md\n"
    }
   }
  },
  {
   "cell_type": "code",
   "execution_count": 651,
   "outputs": [
    {
     "data": {
      "text/plain": "count          59400\nunique           356\ntop       2011-03-15\nfreq             572\nName: date_recorded, dtype: object"
     },
     "execution_count": 651,
     "metadata": {},
     "output_type": "execute_result"
    }
   ],
   "source": [
    "visual[\"date_recorded\"].describe()\n",
    "\n",
    "# date is in format: 2011-03-15 year-month-date\n",
    "# extract year from this column"
   ],
   "metadata": {
    "collapsed": false,
    "pycharm": {
     "name": "#%%\n"
    }
   }
  },
  {
   "cell_type": "code",
   "execution_count": 652,
   "outputs": [],
   "source": [
    "def calculate_age(row):\n",
    "    date_recorded = datetime.datetime.strptime(str(row['date_recorded']), '%Y-%m-%d')\n",
    "    year_recorded = int(date_recorded.strftime('%Y'))\n",
    "    construction_year = row['construction_year']\n",
    "    if year_recorded > construction_year > 0:\n",
    "        return np.abs(year_recorded - construction_year)\n",
    "    else: return np.nan\n",
    "\n",
    "\n",
    "for df in together:\n",
    "    df[\"age\"] = df.apply(calculate_age, axis=1)\n",
    "\n",
    "# note that `age` has nan values which have to be filled later\n",
    "\n",
    "# now drop `date_recorded`\n",
    "for df in together:\n",
    "    df.drop(\"date_recorded\", axis=1, inplace=True)"
   ],
   "metadata": {
    "collapsed": false,
    "pycharm": {
     "name": "#%%\n"
    }
   }
  },
  {
   "cell_type": "markdown",
   "source": [
    "`construction_year` can be binned\n",
    "\n",
    "Reference: https://github.com/drivendataorg/pump-it-up/blob/master/kamchatang/Water%20Pump%201%20-%20EDA%20and%20Data%20Cleaning.ipynb"
   ],
   "metadata": {
    "collapsed": false,
    "pycharm": {
     "name": "#%% md\n"
    }
   }
  },
  {
   "cell_type": "code",
   "execution_count": 653,
   "outputs": [],
   "source": [
    "def construction_wrangler(row):\n",
    "    if 1960 <= row['construction_year'] < 1970:\n",
    "        return '60s'\n",
    "    elif 1970 <= row['construction_year'] < 1980:\n",
    "        return '70s'\n",
    "    elif 1980 <= row['construction_year'] < 1990:\n",
    "        return '80s'\n",
    "    elif 1990 <= row['construction_year'] < 2000:\n",
    "        return '90s'\n",
    "    elif 2000 <= row['construction_year'] < 2010:\n",
    "        return '00s'\n",
    "    elif row['construction_year'] >= 2010:\n",
    "        return '10s'\n",
    "    else:\n",
    "        return \"missing\"\n",
    "\n",
    "selected = [\"60s\", \"70s\", \"80s\", \"90s\", \"00s\", \"10s\"]\n",
    "\n",
    "# apply impute missing values\n",
    "for df in together:\n",
    "    df['construction_year'] = df.apply(lambda row: construction_wrangler(row), axis=1)\n",
    "    # df[\"construction_year\"].replace(to_replace=\"missing\", value=np.nan, inplace=True)\n",
    "    # df = replace_cat_list(df,'construction_year', selected)"
   ],
   "metadata": {
    "collapsed": false,
    "pycharm": {
     "name": "#%%\n"
    }
   }
  },
  {
   "cell_type": "markdown",
   "source": [
    "Next is `region` and `lga`.\n",
    "\n",
    "There is not one dominating value in here. So drop these columns."
   ],
   "metadata": {
    "collapsed": false,
    "pycharm": {
     "name": "#%% md\n"
    }
   }
  },
  {
   "cell_type": "code",
   "execution_count": 654,
   "outputs": [
    {
     "data": {
      "text/plain": "Iringa           8.9%\nShinyanga        8.4%\nMbeya            7.8%\nKilimanjaro      7.4%\nMorogoro         6.7%\nArusha           5.6%\nKagera           5.6%\nMwanza           5.2%\nKigoma           4.7%\nRuvuma           4.4%\nPwani            4.4%\nTanga            4.3%\nDodoma           3.7%\nSingida          3.5%\nMara             3.3%\nTabora           3.3%\nRukwa            3.0%\nMtwara           2.9%\nManyara          2.7%\nLindi            2.6%\nDar es Salaam    1.4%\nName: region, dtype: object"
     },
     "execution_count": 654,
     "metadata": {},
     "output_type": "execute_result"
    }
   ],
   "source": [
    "visual[\"region\"].fillna(\"missing\", inplace=True)\n",
    "visual[\"region\"].value_counts(normalize=True).mul(100).round(1).astype(str) + '%'"
   ],
   "metadata": {
    "collapsed": false,
    "pycharm": {
     "name": "#%%\n"
    }
   }
  },
  {
   "cell_type": "code",
   "execution_count": 655,
   "outputs": [],
   "source": [
    "visual[\"lga\"].fillna(\"missing\", inplace=True)\n",
    "visual[\"lga\"].value_counts(normalize=True).mul(100).round(1).astype(str) + '%'\n",
    "\n",
    "for df in together:\n",
    "    df.drop([\"region\", \"lga\"], axis=1, inplace=True)"
   ],
   "metadata": {
    "collapsed": false,
    "pycharm": {
     "name": "#%%\n"
    }
   }
  },
  {
   "cell_type": "markdown",
   "source": [
    "Next `scheme_management`"
   ],
   "metadata": {
    "collapsed": false,
    "pycharm": {
     "name": "#%% md\n"
    }
   }
  },
  {
   "cell_type": "code",
   "execution_count": 656,
   "outputs": [
    {
     "data": {
      "text/plain": "VWC                 61.9%\nWUG                  8.8%\nmissing              6.5%\nWater authority      5.3%\nWUA                  4.9%\nWater Board          4.6%\nParastatal           2.8%\nPrivate operator     1.8%\nCompany              1.8%\nOther                1.3%\nSWC                  0.2%\nTrust                0.1%\nNone                 0.0%\nName: scheme_management, dtype: object"
     },
     "execution_count": 656,
     "metadata": {},
     "output_type": "execute_result"
    }
   ],
   "source": [
    "visual[\"scheme_management\"].fillna(\"missing\", inplace=True)\n",
    "visual[\"scheme_management\"].value_counts(normalize=True).mul(100).round(1).astype(str) + '%'"
   ],
   "metadata": {
    "collapsed": false,
    "pycharm": {
     "name": "#%%\n"
    }
   }
  },
  {
   "cell_type": "markdown",
   "source": [
    "VWC                 61.9%\n",
    "WUG                  8.8%\n",
    "missing              6.5%\n",
    "Water authority      5.3%\n",
    "WUA                  4.9%\n",
    "Water Board          4.6%\n",
    "\n",
    "Truncate others"
   ],
   "metadata": {
    "collapsed": false,
    "pycharm": {
     "name": "#%% md\n"
    }
   }
  },
  {
   "cell_type": "code",
   "execution_count": 657,
   "outputs": [],
   "source": [
    "selected = ['VWC', 'WUG', 'Water authority', 'WUA', 'Water Board', 'missing']\n",
    "\n",
    "def truncate(row):\n",
    "    if row not in selected:\n",
    "        return \"other\"\n",
    "\n",
    "for df in together:\n",
    "    df[\"scheme_management\"] = df.apply(lambda row: \"other\" if row[\"scheme_management\"] not in selected else row[\"scheme_management\"], axis=1)"
   ],
   "metadata": {
    "collapsed": false,
    "pycharm": {
     "name": "#%%\n"
    }
   }
  },
  {
   "cell_type": "markdown",
   "source": [
    "Sanitizing `null` values\n",
    "\n",
    "For boolean columns: -> fill with median value"
   ],
   "metadata": {
    "collapsed": false
   }
  },
  {
   "cell_type": "code",
   "execution_count": 658,
   "metadata": {
    "pycharm": {
     "name": "#%%\n"
    }
   },
   "outputs": [],
   "source": [
    "# replace boolean cols with median values\n",
    "data[\"public_meeting\"].fillna(\"missing\", inplace=True)\n",
    "data[\"permit\"].fillna(\"missing\", inplace=True)"
   ]
  },
  {
   "cell_type": "markdown",
   "metadata": {
    "pycharm": {
     "name": "#%% md\n"
    }
   },
   "source": [
    "For numeric columns\n",
    "\n",
    "Reference: https://github.com/villeheilala/pumpitup/blob/master/pumpitup_preprocess.ipynb"
   ]
  },
  {
   "cell_type": "code",
   "execution_count": 659,
   "metadata": {
    "pycharm": {
     "name": "#%%\n"
    }
   },
   "outputs": [],
   "source": [
    "data[\"amount_tsh\"] = data[\"amount_tsh\"].apply(lambda x: np.log(round(x)) if round(x) > 0 else 0)\n",
    "data[\"population\"] = data[\"population\"].apply(lambda x: np.log(x) if x > 0 else 0)\n",
    "\n",
    "age_mean = data[\"age\"].mean()\n",
    "data[\"age\"].fillna(value=age_mean, inplace=True)"
   ]
  },
  {
   "cell_type": "markdown",
   "metadata": {
    "pycharm": {
     "name": "#%% md\n"
    }
   },
   "source": [
    "For `gps_height`, fill with reference data\n",
    "\n",
    "Reference: https://github.com/villeheilala/pumpitup/blob/master/heights.csv"
   ]
  },
  {
   "cell_type": "code",
   "execution_count": 660,
   "metadata": {
    "pycharm": {
     "name": "#%%\n"
    }
   },
   "outputs": [],
   "source": [
    "data[\"gps_height\"].replace(to_replace=0, value=np.nan, inplace=True)\n",
    "data[\"gps_height\"] = data[\"gps_height\"].fillna(fill_heights[\"gps_height\"])\n",
    "data[\"gps_height\"].fillna(value=data[\"gps_height\"].mean(), inplace=True)\n",
    "\n",
    "assert (data[\"gps_height\"].isnull().sum() == 0)"
   ]
  },
  {
   "cell_type": "markdown",
   "metadata": {
    "pycharm": {
     "name": "#%% md\n"
    }
   },
   "source": [
    "Fill missing `latitude` and `longitude` data\n",
    "\n",
    "Because geocode from google requires payment, this alternative is suitable\n",
    "\n",
    "Reference: https://github.com/sagol/pumpitup/blob/main/oof_model.ipynb"
   ]
  },
  {
   "cell_type": "code",
   "execution_count": 661,
   "metadata": {
    "pycharm": {
     "name": "#%%\n"
    }
   },
   "outputs": [],
   "source": [
    "data_geo = data.groupby(['region_code'])[['latitude', 'longitude']].median()\n",
    "\n",
    "def geo_update(row, df_geo):\n",
    "    row['longitude'] = df_geo.loc[row['region_code']]['longitude']\n",
    "    row['latitude'] = df_geo.loc[row['region_code']]['latitude']\n",
    "    return row\n",
    "\n",
    "data.loc[data['longitude']== 0, ['longitude', 'latitude']] \\\n",
    "    = data[data['longitude']==0].apply(\n",
    "        geo_update,\n",
    "        df_geo=data_geo,\n",
    "        axis=1)[['longitude', 'latitude']]"
   ]
  },
  {
   "cell_type": "markdown",
   "metadata": {},
   "source": [
    "Working with `Latitude` and `Longitude`\n",
    "\n",
    "Reference: https://stackoverflow.com/a/31398615/10582056\n",
    "\n",
    "1. Find the haversine distance"
   ]
  },
  {
   "cell_type": "code",
   "execution_count": 662,
   "metadata": {
    "pycharm": {
     "name": "#%%\n"
    }
   },
   "outputs": [],
   "source": [
    "mean_lat = data[\"latitude\"].mean()\n",
    "mean_long = data[\"longitude\"].mean()\n",
    "\n",
    "data[\"haversine_distance\"] = data.apply(lambda row: haversine((row[\"latitude\"], row[\"longitude\"]), (mean_lat, mean_long), unit=Unit.KILOMETERS), axis=1)"
   ]
  },
  {
   "cell_type": "markdown",
   "metadata": {},
   "source": [
    "2. Convert `latitude`, `longitude` to `x_coordinate`, `y_coordinate` and `z_coordinate`\n",
    "\n",
    "Reference: https://heartbeat.fritz.ai/working-with-geospatial-data-in-machine-learning-ad4097c7228d"
   ]
  },
  {
   "cell_type": "code",
   "execution_count": 663,
   "metadata": {
    "pycharm": {
     "name": "#%%\n"
    }
   },
   "outputs": [],
   "source": [
    "data['x_coordinate'] = np.cos(data['latitude']) * np.cos(data['longitude'])\n",
    "data['y_coordinate'] = np.cos(data['latitude']) * np.sin(data['longitude'])\n",
    "data['z_coordinate'] = np.sin(data['latitude'])"
   ]
  },
  {
   "cell_type": "markdown",
   "metadata": {},
   "source": [
    "3. Do clustering with DBSCAN\n",
    "\n",
    "Reference: https://github.com/villeheilala/pumpitup/blob/master/pumpitup_preprocess.ipynb"
   ]
  },
  {
   "cell_type": "code",
   "execution_count": 664,
   "metadata": {
    "pycharm": {
     "name": "#%%\n"
    }
   },
   "outputs": [
    {
     "name": "stdout",
     "output_type": "stream",
     "text": [
      "Clustering complete\n"
     ]
    }
   ],
   "source": [
    "db = DBSCAN(eps=0.2, min_samples=200)\n",
    "data[\"location_cluster\"] = db.fit_predict(data[[\"latitude\", \"longitude\"]])\n",
    "\n",
    "print(\"Clustering complete\")"
   ]
  },
  {
   "cell_type": "markdown",
   "metadata": {
    "pycharm": {
     "name": "#%% md\n"
    }
   },
   "source": [
    "Drop unnecessary / similar columns\n",
    "\n",
    "Reference:\n",
    "1. https://github.com/villeheilala/pumpitup/blob/master/pumpitup_preprocess.ipynb\n",
    "2. https://github.com/sagol/pumpitup/blob/main/oof_model.ipynb"
   ]
  },
  {
   "cell_type": "code",
   "execution_count": 665,
   "metadata": {
    "pycharm": {
     "name": "#%%\n"
    }
   },
   "outputs": [],
   "source": [
    "similar_cols = ['recorded_by', \"latitude\", \"longitude\",\n",
    "                'extraction_type', 'extraction_type_group',\n",
    "                 \"management\", \"management_group\",\n",
    "                 \"payment\",\n",
    "                 \"quality_group\",\n",
    "                 \"source\",\n",
    "                 \"num_private\", \"district_code\", \"region_code\"]\n",
    "\n",
    "data.drop(similar_cols, axis=1, inplace=True)"
   ]
  },
  {
   "cell_type": "markdown",
   "metadata": {
    "pycharm": {
     "name": "#%% md\n"
    }
   },
   "source": [
    "Data types in `data` are mixed. So transform\n",
    "\n",
    "1. Some columns are in int format, but they are just categories -> convert them to string\n",
    "\n",
    "Reference: https://github.com/villeheilala/pumpitup/blob/master/pumpitup_preprocess.ipynb\n",
    "\n",
    "2. computable `numeric` types to `float64`\n",
    "\n",
    "3. string columns 'category' for quick transformations"
   ]
  },
  {
   "cell_type": "code",
   "execution_count": 666,
   "metadata": {
    "pycharm": {
     "name": "#%%\n"
    }
   },
   "outputs": [],
   "source": [
    "categorical_columns = [col for col in data.columns if data[col].dtype in [object, \"category\"]] + [\"location_cluster\"]\n",
    "for col in categorical_columns:\n",
    "    data[col] = data[col].map(lambda x: str(x).lower()).astype(\"category\")\n",
    "\n",
    "# numeric columns\n",
    "numeric_columns = [col for col in data.columns if col not in categorical_columns]\n",
    "\n",
    "# convert to float64\n",
    "for col in numeric_columns:\n",
    "    data[col] = data[col].astype(\"float64\")"
   ]
  },
  {
   "cell_type": "code",
   "execution_count": 667,
   "outputs": [
    {
     "data": {
      "text/plain": "                   Column     Dtype  N_Unique  \\\n0      haversine_distance   float64     71877   \n1            x_coordinate   float64     71877   \n2            y_coordinate   float64     71877   \n3            z_coordinate   float64     71871   \n4              gps_height   float64      2481   \n5              population   float64      1127   \n6              amount_tsh   float64        98   \n7                     age   float64        54   \n8        location_cluster  category        31   \n9                  funder  category        11   \n10              installer  category        10   \n11                  basin  category         9   \n12          water_quality  category         8   \n13      construction_year  category         7   \n14  extraction_type_class  category         7   \n15           payment_type  category         7   \n16            source_type  category         7   \n17        waterpoint_type  category         7   \n18      scheme_management  category         6   \n19  waterpoint_type_group  category         6   \n20               quantity  category         5   \n21         quantity_group  category         5   \n22         public_meeting  category         3   \n23                 permit  category         3   \n24           source_class  category         3   \n25                   type  category         2   \n\n                                          Unique_vals  Null values  \n0   [451.9875545518294, 407.71706910655627, 342.79...            0  \n1   [0.8433323014130844, 0.5398050788475607, -0.75...            0  \n2   [0.3373986455318504, 0.07675693112137497, 0.18...            0  \n3   [0.4182735748126857, -0.8382832757339295, 0.62...            0  \n4   [1390.0, 1399.0, 686.0, 263.0, 1671.0, 6.0, 11...            0  \n5   [4.6913478822291435, 5.634789603169249, 5.5214...            0  \n6   [8.699514748210191, 0.0, 3.2188758248682006, 2...            0  \n7   [12.0, 3.0, 4.0, 27.0, 15.535065208245689, 2.0...            0  \n8   [5, 6, 4, -1, 0, 1, 26, 2, 3, 17, 7, 25, 8, 9,...            0  \n9   [other, district, rwssp, concern, danida, worl...            0  \n10  [other, dwe, danida, council, kkkt, tanzanian ...            0  \n11  [lake nyasa, lake victoria, pangani, ruvuma / ...            0  \n12  [soft, salty, milky, unknown, fluoride, colour...            0  \n13            [90s, 10s, 00s, 80s, missing, 70s, 60s]            0  \n14  [gravity, submersible, handpump, other, motorp...            0  \n15  [annually, never pay, per bucket, unknown, on ...            0  \n16  [spring, rainwater harvesting, dam, borehole, ...            0  \n17  [communal standpipe, communal standpipe multip...            0  \n18  [vwc, other, wug, water board, wua, water auth...            0  \n19  [communal standpipe, hand pump, other, improve...            0  \n20     [enough, insufficient, dry, seasonal, unknown]            0  \n21     [enough, insufficient, dry, seasonal, unknown]            0  \n22                             [true, missing, false]            0  \n23                             [false, true, missing]            0  \n24                    [groundwater, surface, unknown]            0  \n25                                      [train, test]            0  ",
      "text/html": "<div>\n<style scoped>\n    .dataframe tbody tr th:only-of-type {\n        vertical-align: middle;\n    }\n\n    .dataframe tbody tr th {\n        vertical-align: top;\n    }\n\n    .dataframe thead th {\n        text-align: right;\n    }\n</style>\n<table border=\"1\" class=\"dataframe\">\n  <thead>\n    <tr style=\"text-align: right;\">\n      <th></th>\n      <th>Column</th>\n      <th>Dtype</th>\n      <th>N_Unique</th>\n      <th>Unique_vals</th>\n      <th>Null values</th>\n    </tr>\n  </thead>\n  <tbody>\n    <tr>\n      <th>0</th>\n      <td>haversine_distance</td>\n      <td>float64</td>\n      <td>71877</td>\n      <td>[451.9875545518294, 407.71706910655627, 342.79...</td>\n      <td>0</td>\n    </tr>\n    <tr>\n      <th>1</th>\n      <td>x_coordinate</td>\n      <td>float64</td>\n      <td>71877</td>\n      <td>[0.8433323014130844, 0.5398050788475607, -0.75...</td>\n      <td>0</td>\n    </tr>\n    <tr>\n      <th>2</th>\n      <td>y_coordinate</td>\n      <td>float64</td>\n      <td>71877</td>\n      <td>[0.3373986455318504, 0.07675693112137497, 0.18...</td>\n      <td>0</td>\n    </tr>\n    <tr>\n      <th>3</th>\n      <td>z_coordinate</td>\n      <td>float64</td>\n      <td>71871</td>\n      <td>[0.4182735748126857, -0.8382832757339295, 0.62...</td>\n      <td>0</td>\n    </tr>\n    <tr>\n      <th>4</th>\n      <td>gps_height</td>\n      <td>float64</td>\n      <td>2481</td>\n      <td>[1390.0, 1399.0, 686.0, 263.0, 1671.0, 6.0, 11...</td>\n      <td>0</td>\n    </tr>\n    <tr>\n      <th>5</th>\n      <td>population</td>\n      <td>float64</td>\n      <td>1127</td>\n      <td>[4.6913478822291435, 5.634789603169249, 5.5214...</td>\n      <td>0</td>\n    </tr>\n    <tr>\n      <th>6</th>\n      <td>amount_tsh</td>\n      <td>float64</td>\n      <td>98</td>\n      <td>[8.699514748210191, 0.0, 3.2188758248682006, 2...</td>\n      <td>0</td>\n    </tr>\n    <tr>\n      <th>7</th>\n      <td>age</td>\n      <td>float64</td>\n      <td>54</td>\n      <td>[12.0, 3.0, 4.0, 27.0, 15.535065208245689, 2.0...</td>\n      <td>0</td>\n    </tr>\n    <tr>\n      <th>8</th>\n      <td>location_cluster</td>\n      <td>category</td>\n      <td>31</td>\n      <td>[5, 6, 4, -1, 0, 1, 26, 2, 3, 17, 7, 25, 8, 9,...</td>\n      <td>0</td>\n    </tr>\n    <tr>\n      <th>9</th>\n      <td>funder</td>\n      <td>category</td>\n      <td>11</td>\n      <td>[other, district, rwssp, concern, danida, worl...</td>\n      <td>0</td>\n    </tr>\n    <tr>\n      <th>10</th>\n      <td>installer</td>\n      <td>category</td>\n      <td>10</td>\n      <td>[other, dwe, danida, council, kkkt, tanzanian ...</td>\n      <td>0</td>\n    </tr>\n    <tr>\n      <th>11</th>\n      <td>basin</td>\n      <td>category</td>\n      <td>9</td>\n      <td>[lake nyasa, lake victoria, pangani, ruvuma / ...</td>\n      <td>0</td>\n    </tr>\n    <tr>\n      <th>12</th>\n      <td>water_quality</td>\n      <td>category</td>\n      <td>8</td>\n      <td>[soft, salty, milky, unknown, fluoride, colour...</td>\n      <td>0</td>\n    </tr>\n    <tr>\n      <th>13</th>\n      <td>construction_year</td>\n      <td>category</td>\n      <td>7</td>\n      <td>[90s, 10s, 00s, 80s, missing, 70s, 60s]</td>\n      <td>0</td>\n    </tr>\n    <tr>\n      <th>14</th>\n      <td>extraction_type_class</td>\n      <td>category</td>\n      <td>7</td>\n      <td>[gravity, submersible, handpump, other, motorp...</td>\n      <td>0</td>\n    </tr>\n    <tr>\n      <th>15</th>\n      <td>payment_type</td>\n      <td>category</td>\n      <td>7</td>\n      <td>[annually, never pay, per bucket, unknown, on ...</td>\n      <td>0</td>\n    </tr>\n    <tr>\n      <th>16</th>\n      <td>source_type</td>\n      <td>category</td>\n      <td>7</td>\n      <td>[spring, rainwater harvesting, dam, borehole, ...</td>\n      <td>0</td>\n    </tr>\n    <tr>\n      <th>17</th>\n      <td>waterpoint_type</td>\n      <td>category</td>\n      <td>7</td>\n      <td>[communal standpipe, communal standpipe multip...</td>\n      <td>0</td>\n    </tr>\n    <tr>\n      <th>18</th>\n      <td>scheme_management</td>\n      <td>category</td>\n      <td>6</td>\n      <td>[vwc, other, wug, water board, wua, water auth...</td>\n      <td>0</td>\n    </tr>\n    <tr>\n      <th>19</th>\n      <td>waterpoint_type_group</td>\n      <td>category</td>\n      <td>6</td>\n      <td>[communal standpipe, hand pump, other, improve...</td>\n      <td>0</td>\n    </tr>\n    <tr>\n      <th>20</th>\n      <td>quantity</td>\n      <td>category</td>\n      <td>5</td>\n      <td>[enough, insufficient, dry, seasonal, unknown]</td>\n      <td>0</td>\n    </tr>\n    <tr>\n      <th>21</th>\n      <td>quantity_group</td>\n      <td>category</td>\n      <td>5</td>\n      <td>[enough, insufficient, dry, seasonal, unknown]</td>\n      <td>0</td>\n    </tr>\n    <tr>\n      <th>22</th>\n      <td>public_meeting</td>\n      <td>category</td>\n      <td>3</td>\n      <td>[true, missing, false]</td>\n      <td>0</td>\n    </tr>\n    <tr>\n      <th>23</th>\n      <td>permit</td>\n      <td>category</td>\n      <td>3</td>\n      <td>[false, true, missing]</td>\n      <td>0</td>\n    </tr>\n    <tr>\n      <th>24</th>\n      <td>source_class</td>\n      <td>category</td>\n      <td>3</td>\n      <td>[groundwater, surface, unknown]</td>\n      <td>0</td>\n    </tr>\n    <tr>\n      <th>25</th>\n      <td>type</td>\n      <td>category</td>\n      <td>2</td>\n      <td>[train, test]</td>\n      <td>0</td>\n    </tr>\n  </tbody>\n</table>\n</div>"
     },
     "execution_count": 667,
     "metadata": {},
     "output_type": "execute_result"
    }
   ],
   "source": [
    "df = data\n",
    "col_details = []\n",
    "for col in df.columns:\n",
    "    col_details.append((col, df[col].dtype, df[col].nunique(), list(df[col].unique()), df[col].isnull().sum()))\n",
    "col_details.sort(key=lambda x: 1 / x[-3])\n",
    "\n",
    "temp = pd.DataFrame(col_details, columns=[\"Column\", \"Dtype\", \"N_Unique\", \"Unique_vals\", \"Null values\"])\n",
    "temp"
   ],
   "metadata": {
    "collapsed": false,
    "pycharm": {
     "name": "#%%\n"
    }
   }
  },
  {
   "cell_type": "markdown",
   "metadata": {
    "pycharm": {
     "name": "#%% md\n"
    }
   },
   "source": [
    "Check if numeric columns follows Gaussian pattern\n",
    "if true: use `StandardScalar` else use `MinMaxScalar`\n",
    "\n",
    "Reference: https://machinelearningmastery.com/a-gentle-introduction-to-normality-tests-in-python/"
   ]
  },
  {
   "cell_type": "code",
   "execution_count": 668,
   "metadata": {
    "pycharm": {
     "name": "#%%\n"
    }
   },
   "outputs": [
    {
     "name": "stdout",
     "output_type": "stream",
     "text": [
      "amount_tsh: statistics=0.642, p=0.000, no\n",
      "gps_height: statistics=0.943, p=0.000, no\n",
      "population: statistics=0.783, p=0.000, no\n",
      "age: statistics=0.897, p=0.000, no\n",
      "haversine_distance: statistics=0.988, p=0.000, no\n",
      "x_coordinate: statistics=0.971, p=0.000, no\n",
      "y_coordinate: statistics=0.967, p=0.000, no\n",
      "z_coordinate: statistics=0.922, p=0.000, no\n"
     ]
    },
    {
     "name": "stderr",
     "output_type": "stream",
     "text": [
      "E:\\OpenSoftware\\miniconda3\\envs\\pump_it_up\\lib\\site-packages\\scipy\\stats\\morestats.py:1760: UserWarning: p-value may not be accurate for N > 5000.\n",
      "  warnings.warn(\"p-value may not be accurate for N > 5000.\")\n"
     ]
    }
   ],
   "source": [
    "def is_gaussian(feature, alpha):\n",
    "    stat, p = shapiro(data[feature])\n",
    "    print('%s: statistics=%.3f, p=%.3f, %s' % (feature, stat, p, 'yes' if p > alpha else 'no'))\n",
    "\n",
    "for column in numeric_columns:\n",
    "    is_gaussian(column, 0.05)"
   ]
  },
  {
   "cell_type": "markdown",
   "metadata": {
    "pycharm": {
     "name": "#%% md\n"
    }
   },
   "source": [
    "Doing standardisation with `MinMax Scalar`"
   ]
  },
  {
   "cell_type": "code",
   "execution_count": null,
   "metadata": {
    "pycharm": {
     "name": "#%%\n"
    }
   },
   "outputs": [],
   "source": [
    "standard_cols = [\n",
    "    'amount_tsh',\n",
    "    'gps_height',\n",
    "    'population',\n",
    "    'haversine_distance',\n",
    "    'x_coordinate',\n",
    "    'y_coordinate',\n",
    "    'z_coordinate',\n",
    "    'age'\n",
    "]\n",
    "\n",
    "scalar = MinMaxScaler()\n",
    "data[standard_cols] = scalar.fit_transform(data[standard_cols])"
   ]
  },
  {
   "cell_type": "markdown",
   "metadata": {
    "pycharm": {
     "name": "#%% md\n"
    }
   },
   "source": [
    "Make all strings to lowercase"
   ]
  },
  {
   "cell_type": "code",
   "execution_count": null,
   "metadata": {
    "pycharm": {
     "name": "#%%\n"
    }
   },
   "outputs": [],
   "source": [
    "for col in categorical_columns:\n",
    "    data[col] = data[col].apply(lambda x: x.lower(), convert_dtype=False)"
   ]
  },
  {
   "cell_type": "code",
   "execution_count": null,
   "outputs": [],
   "source": [
    "\n"
   ],
   "metadata": {
    "collapsed": false,
    "pycharm": {
     "name": "#%%\n"
    }
   }
  }
 ],
 "metadata": {
  "kernelspec": {
   "display_name": "Python 3 (ipykernel)",
   "language": "python",
   "name": "python3"
  },
  "language_info": {
   "codemirror_mode": {
    "name": "ipython",
    "version": 3
   },
   "file_extension": ".py",
   "mimetype": "text/x-python",
   "name": "python",
   "nbconvert_exporter": "python",
   "pygments_lexer": "ipython3",
   "version": "3.7.11"
  }
 },
 "nbformat": 4,
 "nbformat_minor": 1
}